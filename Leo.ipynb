{
 "cells": [
  {
   "cell_type": "code",
   "execution_count": 44,
   "metadata": {},
   "outputs": [],
   "source": [
    "import pandas as pd\n",
    "import matplotlib.pyplot as plt\n",
    "from sklearn.linear_model import LinearRegression\n",
    "import statsmodels.formula.api as smf\n",
    "import numpy as np\n",
    "from sklearn.metrics import precision_recall_fscore_support\n",
    "import random\n",
    "from sklearn.linear_model import LogisticRegression\n",
    "import math\n",
    "\n",
    "from sklearn.tree import DecisionTreeClassifier, plot_tree\n",
    "from sklearn import tree\n",
    "\n",
    "from graphviz import Source\n",
    "\n",
    "from sklearn.tree import export_graphviz\n",
    "from IPython.display import SVG"
   ]
  },
  {
   "cell_type": "code",
   "execution_count": 9,
   "metadata": {},
   "outputs": [
    {
     "data": {
      "text/html": [
       "<div>\n",
       "<style scoped>\n",
       "    .dataframe tbody tr th:only-of-type {\n",
       "        vertical-align: middle;\n",
       "    }\n",
       "\n",
       "    .dataframe tbody tr th {\n",
       "        vertical-align: top;\n",
       "    }\n",
       "\n",
       "    .dataframe thead th {\n",
       "        text-align: right;\n",
       "    }\n",
       "</style>\n",
       "<table border=\"1\" class=\"dataframe\">\n",
       "  <thead>\n",
       "    <tr style=\"text-align: right;\">\n",
       "      <th></th>\n",
       "      <th>class</th>\n",
       "      <th>x1</th>\n",
       "      <th>y1</th>\n",
       "      <th>x2</th>\n",
       "      <th>y2</th>\n",
       "      <th>size</th>\n",
       "      <th>diag</th>\n",
       "    </tr>\n",
       "  </thead>\n",
       "  <tbody>\n",
       "    <tr>\n",
       "      <th>0</th>\n",
       "      <td>1</td>\n",
       "      <td>0</td>\n",
       "      <td>0</td>\n",
       "      <td>0</td>\n",
       "      <td>20</td>\n",
       "      <td>20.00</td>\n",
       "      <td>46.10</td>\n",
       "    </tr>\n",
       "    <tr>\n",
       "      <th>1</th>\n",
       "      <td>1</td>\n",
       "      <td>19</td>\n",
       "      <td>0</td>\n",
       "      <td>19</td>\n",
       "      <td>8</td>\n",
       "      <td>8.00</td>\n",
       "      <td>46.10</td>\n",
       "    </tr>\n",
       "    <tr>\n",
       "      <th>2</th>\n",
       "      <td>1</td>\n",
       "      <td>0</td>\n",
       "      <td>20</td>\n",
       "      <td>19</td>\n",
       "      <td>8</td>\n",
       "      <td>22.47</td>\n",
       "      <td>46.10</td>\n",
       "    </tr>\n",
       "    <tr>\n",
       "      <th>3</th>\n",
       "      <td>1</td>\n",
       "      <td>0</td>\n",
       "      <td>20</td>\n",
       "      <td>8</td>\n",
       "      <td>42</td>\n",
       "      <td>23.41</td>\n",
       "      <td>46.10</td>\n",
       "    </tr>\n",
       "    <tr>\n",
       "      <th>4</th>\n",
       "      <td>1</td>\n",
       "      <td>19</td>\n",
       "      <td>8</td>\n",
       "      <td>8</td>\n",
       "      <td>42</td>\n",
       "      <td>35.74</td>\n",
       "      <td>46.10</td>\n",
       "    </tr>\n",
       "    <tr>\n",
       "      <th>...</th>\n",
       "      <td>...</td>\n",
       "      <td>...</td>\n",
       "      <td>...</td>\n",
       "      <td>...</td>\n",
       "      <td>...</td>\n",
       "      <td>...</td>\n",
       "      <td>...</td>\n",
       "    </tr>\n",
       "    <tr>\n",
       "      <th>5104</th>\n",
       "      <td>10</td>\n",
       "      <td>18</td>\n",
       "      <td>39</td>\n",
       "      <td>22</td>\n",
       "      <td>33</td>\n",
       "      <td>7.21</td>\n",
       "      <td>49.19</td>\n",
       "    </tr>\n",
       "    <tr>\n",
       "      <th>5105</th>\n",
       "      <td>10</td>\n",
       "      <td>22</td>\n",
       "      <td>33</td>\n",
       "      <td>22</td>\n",
       "      <td>20</td>\n",
       "      <td>13.00</td>\n",
       "      <td>49.19</td>\n",
       "    </tr>\n",
       "    <tr>\n",
       "      <th>5106</th>\n",
       "      <td>10</td>\n",
       "      <td>22</td>\n",
       "      <td>20</td>\n",
       "      <td>18</td>\n",
       "      <td>14</td>\n",
       "      <td>7.21</td>\n",
       "      <td>49.19</td>\n",
       "    </tr>\n",
       "    <tr>\n",
       "      <th>5107</th>\n",
       "      <td>10</td>\n",
       "      <td>18</td>\n",
       "      <td>14</td>\n",
       "      <td>0</td>\n",
       "      <td>8</td>\n",
       "      <td>18.97</td>\n",
       "      <td>49.19</td>\n",
       "    </tr>\n",
       "    <tr>\n",
       "      <th>5108</th>\n",
       "      <td>10</td>\n",
       "      <td>0</td>\n",
       "      <td>8</td>\n",
       "      <td>20</td>\n",
       "      <td>0</td>\n",
       "      <td>21.54</td>\n",
       "      <td>49.19</td>\n",
       "    </tr>\n",
       "  </tbody>\n",
       "</table>\n",
       "<p>5109 rows × 7 columns</p>\n",
       "</div>"
      ],
      "text/plain": [
       "      class  x1  y1  x2  y2   size   diag\n",
       "0         1   0   0   0  20  20.00  46.10\n",
       "1         1  19   0  19   8   8.00  46.10\n",
       "2         1   0  20  19   8  22.47  46.10\n",
       "3         1   0  20   8  42  23.41  46.10\n",
       "4         1  19   8   8  42  35.74  46.10\n",
       "...     ...  ..  ..  ..  ..    ...    ...\n",
       "5104     10  18  39  22  33   7.21  49.19\n",
       "5105     10  22  33  22  20  13.00  49.19\n",
       "5106     10  22  20  18  14   7.21  49.19\n",
       "5107     10  18  14   0   8  18.97  49.19\n",
       "5108     10   0   8  20   0  21.54  49.19\n",
       "\n",
       "[5109 rows x 7 columns]"
      ]
     },
     "metadata": {},
     "output_type": "display_data"
    }
   ],
   "source": [
    "train = pd.read_csv(\"./data/train.csv\")\n",
    "test = pd.read_csv(\"./data/test.csv\")\n",
    "display(train)"
   ]
  },
  {
   "cell_type": "code",
   "execution_count": 45,
   "metadata": {},
   "outputs": [
    {
     "data": {
      "image/svg+xml": [
       "<svg height=\"761pt\" viewBox=\"0.00 0.00 6409.50 761.00\" width=\"6410pt\" xmlns=\"http://www.w3.org/2000/svg\" xmlns:xlink=\"http://www.w3.org/1999/xlink\">\n",
       "<g class=\"graph\" id=\"graph0\" transform=\"scale(1 1) rotate(0) translate(4 757)\">\n",
       "<title>Tree</title>\n",
       "<polygon fill=\"white\" points=\"-4,4 -4,-757 6405.5,-757 6405.5,4 -4,4\" stroke=\"none\"/>\n",
       "<!-- 0 -->\n",
       "<g class=\"node\" id=\"node1\"><title>0</title>\n",
       "<polygon fill=\"#fefbfc\" points=\"3042,-753 2674,-753 2674,-655 3042,-655 3042,-753\" stroke=\"black\"/>\n",
       "<text font-family=\"Times New Roman,serif\" font-size=\"14.00\" text-anchor=\"middle\" x=\"2858\" y=\"-737.8\">y1 &lt;= 25.5</text>\n",
       "<text font-family=\"Times New Roman,serif\" font-size=\"14.00\" text-anchor=\"middle\" x=\"2858\" y=\"-722.8\">gini = 0.895</text>\n",
       "<text font-family=\"Times New Roman,serif\" font-size=\"14.00\" text-anchor=\"middle\" x=\"2858\" y=\"-707.8\">samples = 25545</text>\n",
       "<text font-family=\"Times New Roman,serif\" font-size=\"14.00\" text-anchor=\"middle\" x=\"2858\" y=\"-692.8\">value = [3032, 1999, 2509, 2500, 2000, 3013, 2500, 1500, 2989</text>\n",
       "<text font-family=\"Times New Roman,serif\" font-size=\"14.00\" text-anchor=\"middle\" x=\"2858\" y=\"-677.8\">3503]</text>\n",
       "<text font-family=\"Times New Roman,serif\" font-size=\"14.00\" text-anchor=\"middle\" x=\"2858\" y=\"-662.8\">class = 10</text>\n",
       "</g>\n",
       "<!-- 1 -->\n",
       "<g class=\"node\" id=\"node2\"><title>1</title>\n",
       "<polygon fill=\"#fdfeff\" points=\"2202,-619 1834,-619 1834,-521 2202,-521 2202,-619\" stroke=\"black\"/>\n",
       "<text font-family=\"Times New Roman,serif\" font-size=\"14.00\" text-anchor=\"middle\" x=\"2018\" y=\"-603.8\">x1 &lt;= 0.5</text>\n",
       "<text font-family=\"Times New Roman,serif\" font-size=\"14.00\" text-anchor=\"middle\" x=\"2018\" y=\"-588.8\">gini = 0.893</text>\n",
       "<text font-family=\"Times New Roman,serif\" font-size=\"14.00\" text-anchor=\"middle\" x=\"2018\" y=\"-573.8\">samples = 19638</text>\n",
       "<text font-family=\"Times New Roman,serif\" font-size=\"14.00\" text-anchor=\"middle\" x=\"2018\" y=\"-558.8\">value = [2603, 1859, 2029, 2132, 1642, 2746, 2488, 1500, 1110</text>\n",
       "<text font-family=\"Times New Roman,serif\" font-size=\"14.00\" text-anchor=\"middle\" x=\"2018\" y=\"-543.8\">1529]</text>\n",
       "<text font-family=\"Times New Roman,serif\" font-size=\"14.00\" text-anchor=\"middle\" x=\"2018\" y=\"-528.8\">class = 6</text>\n",
       "</g>\n",
       "<!-- 0&#45;&gt;1 -->\n",
       "<g class=\"edge\" id=\"edge1\"><title>0-&gt;1</title>\n",
       "<path d=\"M2673.92,-674.073C2537.16,-652.582 2351.01,-623.331 2211.95,-601.478\" fill=\"none\" stroke=\"black\"/>\n",
       "<polygon fill=\"black\" points=\"2212.45,-598.013 2202.02,-599.918 2211.36,-604.928 2212.45,-598.013\" stroke=\"black\"/>\n",
       "<text font-family=\"Times New Roman,serif\" font-size=\"14.00\" text-anchor=\"middle\" x=\"2216.74\" y=\"-616.426\">True</text>\n",
       "</g>\n",
       "<!-- 24 -->\n",
       "<g class=\"node\" id=\"node25\"><title>24</title>\n",
       "<polygon fill=\"#fefafb\" points=\"3882.5,-611.5 3549.5,-611.5 3549.5,-528.5 3882.5,-528.5 3882.5,-611.5\" stroke=\"black\"/>\n",
       "<text font-family=\"Times New Roman,serif\" font-size=\"14.00\" text-anchor=\"middle\" x=\"3716\" y=\"-596.3\">diag &lt;= 46.235</text>\n",
       "<text font-family=\"Times New Roman,serif\" font-size=\"14.00\" text-anchor=\"middle\" x=\"3716\" y=\"-581.3\">gini = 0.765</text>\n",
       "<text font-family=\"Times New Roman,serif\" font-size=\"14.00\" text-anchor=\"middle\" x=\"3716\" y=\"-566.3\">samples = 5907</text>\n",
       "<text font-family=\"Times New Roman,serif\" font-size=\"14.00\" text-anchor=\"middle\" x=\"3716\" y=\"-551.3\">value = [429, 140, 480, 368, 358, 267, 12, 0, 1879, 1974]</text>\n",
       "<text font-family=\"Times New Roman,serif\" font-size=\"14.00\" text-anchor=\"middle\" x=\"3716\" y=\"-536.3\">class = 10</text>\n",
       "</g>\n",
       "<!-- 0&#45;&gt;24 -->\n",
       "<g class=\"edge\" id=\"edge24\"><title>0-&gt;24</title>\n",
       "<path d=\"M3042.06,-674.683C3189.23,-652.041 3394.24,-620.502 3539.4,-598.169\" fill=\"none\" stroke=\"black\"/>\n",
       "<polygon fill=\"black\" points=\"3539.96,-601.624 3549.31,-596.644 3538.9,-594.705 3539.96,-601.624\" stroke=\"black\"/>\n",
       "<text font-family=\"Times New Roman,serif\" font-size=\"14.00\" text-anchor=\"middle\" x=\"3534.53\" y=\"-613.104\">False</text>\n",
       "</g>\n",
       "<!-- 2 -->\n",
       "<g class=\"node\" id=\"node3\"><title>2</title>\n",
       "<polygon fill=\"#f6fef7\" points=\"1242.5,-485 901.5,-485 901.5,-387 1242.5,-387 1242.5,-485\" stroke=\"black\"/>\n",
       "<text font-family=\"Times New Roman,serif\" font-size=\"14.00\" text-anchor=\"middle\" x=\"1072\" y=\"-469.8\">y2 &lt;= 3.0</text>\n",
       "<text font-family=\"Times New Roman,serif\" font-size=\"14.00\" text-anchor=\"middle\" x=\"1072\" y=\"-454.8\">gini = 0.884</text>\n",
       "<text font-family=\"Times New Roman,serif\" font-size=\"14.00\" text-anchor=\"middle\" x=\"1072\" y=\"-439.8\">samples = 11850</text>\n",
       "<text font-family=\"Times New Roman,serif\" font-size=\"14.00\" text-anchor=\"middle\" x=\"1072\" y=\"-424.8\">value = [1534, 811, 557, 2040, 1558, 724, 1500, 1500, 644</text>\n",
       "<text font-family=\"Times New Roman,serif\" font-size=\"14.00\" text-anchor=\"middle\" x=\"1072\" y=\"-409.8\">982]</text>\n",
       "<text font-family=\"Times New Roman,serif\" font-size=\"14.00\" text-anchor=\"middle\" x=\"1072\" y=\"-394.8\">class = 4</text>\n",
       "</g>\n",
       "<!-- 1&#45;&gt;2 -->\n",
       "<g class=\"edge\" id=\"edge2\"><title>1-&gt;2</title>\n",
       "<path d=\"M1833.92,-543.314C1666.23,-519.916 1420.02,-485.561 1253.23,-462.288\" fill=\"none\" stroke=\"black\"/>\n",
       "<polygon fill=\"black\" points=\"1253.25,-458.757 1242.86,-460.841 1252.28,-465.69 1253.25,-458.757\" stroke=\"black\"/>\n",
       "</g>\n",
       "<!-- 15 -->\n",
       "<g class=\"node\" id=\"node16\"><title>15</title>\n",
       "<polygon fill=\"#eef6fd\" points=\"2188,-477.5 1848,-477.5 1848,-394.5 2188,-394.5 2188,-477.5\" stroke=\"black\"/>\n",
       "<text font-family=\"Times New Roman,serif\" font-size=\"14.00\" text-anchor=\"middle\" x=\"2018\" y=\"-462.3\">y2 &lt;= 1.0</text>\n",
       "<text font-family=\"Times New Roman,serif\" font-size=\"14.00\" text-anchor=\"middle\" x=\"2018\" y=\"-447.3\">gini = 0.835</text>\n",
       "<text font-family=\"Times New Roman,serif\" font-size=\"14.00\" text-anchor=\"middle\" x=\"2018\" y=\"-432.3\">samples = 7788</text>\n",
       "<text font-family=\"Times New Roman,serif\" font-size=\"14.00\" text-anchor=\"middle\" x=\"2018\" y=\"-417.3\">value = [1069, 1048, 1472, 92, 84, 2022, 988, 0, 466, 547]</text>\n",
       "<text font-family=\"Times New Roman,serif\" font-size=\"14.00\" text-anchor=\"middle\" x=\"2018\" y=\"-402.3\">class = 6</text>\n",
       "</g>\n",
       "<!-- 1&#45;&gt;15 -->\n",
       "<g class=\"edge\" id=\"edge15\"><title>1-&gt;15</title>\n",
       "<path d=\"M2018,-520.972C2018,-510.246 2018,-498.835 2018,-487.994\" fill=\"none\" stroke=\"black\"/>\n",
       "<polygon fill=\"black\" points=\"2021.5,-487.817 2018,-477.817 2014.5,-487.817 2021.5,-487.817\" stroke=\"black\"/>\n",
       "</g>\n",
       "<!-- 3 -->\n",
       "<g class=\"node\" id=\"node4\"><title>3</title>\n",
       "<polygon fill=\"#ffffff\" points=\"719.5,-343.5 474.5,-343.5 474.5,-260.5 719.5,-260.5 719.5,-343.5\" stroke=\"black\"/>\n",
       "<text font-family=\"Times New Roman,serif\" font-size=\"14.00\" text-anchor=\"middle\" x=\"597\" y=\"-328.3\">y1 &lt;= 3.0</text>\n",
       "<text font-family=\"Times New Roman,serif\" font-size=\"14.00\" text-anchor=\"middle\" x=\"597\" y=\"-313.3\">gini = 0.665</text>\n",
       "<text font-family=\"Times New Roman,serif\" font-size=\"14.00\" text-anchor=\"middle\" x=\"597\" y=\"-298.3\">samples = 1426</text>\n",
       "<text font-family=\"Times New Roman,serif\" font-size=\"14.00\" text-anchor=\"middle\" x=\"597\" y=\"-283.3\">value = [0, 0, 0, 500, 0, 0, 0, 500, 0, 426]</text>\n",
       "<text font-family=\"Times New Roman,serif\" font-size=\"14.00\" text-anchor=\"middle\" x=\"597\" y=\"-268.3\">class = 4</text>\n",
       "</g>\n",
       "<!-- 2&#45;&gt;3 -->\n",
       "<g class=\"edge\" id=\"edge3\"><title>2-&gt;3</title>\n",
       "<path d=\"M901.185,-387.531C844.723,-371.841 782.788,-354.63 729.626,-339.856\" fill=\"none\" stroke=\"black\"/>\n",
       "<polygon fill=\"black\" points=\"730.377,-336.432 719.805,-337.127 728.503,-343.177 730.377,-336.432\" stroke=\"black\"/>\n",
       "</g>\n",
       "<!-- 8 -->\n",
       "<g class=\"node\" id=\"node9\"><title>8</title>\n",
       "<polygon fill=\"#ffffff\" points=\"1242.5,-351 901.5,-351 901.5,-253 1242.5,-253 1242.5,-351\" stroke=\"black\"/>\n",
       "<text font-family=\"Times New Roman,serif\" font-size=\"14.00\" text-anchor=\"middle\" x=\"1072\" y=\"-335.8\">size &lt;= 25.98</text>\n",
       "<text font-family=\"Times New Roman,serif\" font-size=\"14.00\" text-anchor=\"middle\" x=\"1072\" y=\"-320.8\">gini = 0.884</text>\n",
       "<text font-family=\"Times New Roman,serif\" font-size=\"14.00\" text-anchor=\"middle\" x=\"1072\" y=\"-305.8\">samples = 10424</text>\n",
       "<text font-family=\"Times New Roman,serif\" font-size=\"14.00\" text-anchor=\"middle\" x=\"1072\" y=\"-290.8\">value = [1534, 811, 557, 1540, 1558, 724, 1500, 1000, 644</text>\n",
       "<text font-family=\"Times New Roman,serif\" font-size=\"14.00\" text-anchor=\"middle\" x=\"1072\" y=\"-275.8\">556]</text>\n",
       "<text font-family=\"Times New Roman,serif\" font-size=\"14.00\" text-anchor=\"middle\" x=\"1072\" y=\"-260.8\">class = 5</text>\n",
       "</g>\n",
       "<!-- 2&#45;&gt;8 -->\n",
       "<g class=\"edge\" id=\"edge8\"><title>2-&gt;8</title>\n",
       "<path d=\"M1072,-386.972C1072,-378.691 1072,-370.003 1072,-361.483\" fill=\"none\" stroke=\"black\"/>\n",
       "<polygon fill=\"black\" points=\"1075.5,-361.214 1072,-351.214 1068.5,-361.214 1075.5,-361.214\" stroke=\"black\"/>\n",
       "</g>\n",
       "<!-- 4 -->\n",
       "<g class=\"node\" id=\"node5\"><title>4</title>\n",
       "<polygon fill=\"#ffffff\" points=\"468,-209.5 236,-209.5 236,-126.5 468,-126.5 468,-209.5\" stroke=\"black\"/>\n",
       "<text font-family=\"Times New Roman,serif\" font-size=\"14.00\" text-anchor=\"middle\" x=\"352\" y=\"-194.3\">y2 &lt;= -0.5</text>\n",
       "<text font-family=\"Times New Roman,serif\" font-size=\"14.00\" text-anchor=\"middle\" x=\"352\" y=\"-179.3\">gini = 0.5</text>\n",
       "<text font-family=\"Times New Roman,serif\" font-size=\"14.00\" text-anchor=\"middle\" x=\"352\" y=\"-164.3\">samples = 1000</text>\n",
       "<text font-family=\"Times New Roman,serif\" font-size=\"14.00\" text-anchor=\"middle\" x=\"352\" y=\"-149.3\">value = [0, 0, 0, 500, 0, 0, 0, 500, 0, 0]</text>\n",
       "<text font-family=\"Times New Roman,serif\" font-size=\"14.00\" text-anchor=\"middle\" x=\"352\" y=\"-134.3\">class = 4</text>\n",
       "</g>\n",
       "<!-- 3&#45;&gt;4 -->\n",
       "<g class=\"edge\" id=\"edge4\"><title>3-&gt;4</title>\n",
       "<path d=\"M521.827,-260.499C494.792,-245.933 464.123,-229.409 436.357,-214.45\" fill=\"none\" stroke=\"black\"/>\n",
       "<polygon fill=\"black\" points=\"437.917,-211.314 427.453,-209.652 434.596,-217.477 437.917,-211.314\" stroke=\"black\"/>\n",
       "</g>\n",
       "<!-- 7 -->\n",
       "<g class=\"node\" id=\"node8\"><title>7</title>\n",
       "<polygon fill=\"#e53958\" points=\"706,-202 488,-202 488,-134 706,-134 706,-202\" stroke=\"black\"/>\n",
       "<text font-family=\"Times New Roman,serif\" font-size=\"14.00\" text-anchor=\"middle\" x=\"597\" y=\"-186.8\">gini = 0.0</text>\n",
       "<text font-family=\"Times New Roman,serif\" font-size=\"14.00\" text-anchor=\"middle\" x=\"597\" y=\"-171.8\">samples = 426</text>\n",
       "<text font-family=\"Times New Roman,serif\" font-size=\"14.00\" text-anchor=\"middle\" x=\"597\" y=\"-156.8\">value = [0, 0, 0, 0, 0, 0, 0, 0, 0, 426]</text>\n",
       "<text font-family=\"Times New Roman,serif\" font-size=\"14.00\" text-anchor=\"middle\" x=\"597\" y=\"-141.8\">class = 10</text>\n",
       "</g>\n",
       "<!-- 3&#45;&gt;7 -->\n",
       "<g class=\"edge\" id=\"edge7\"><title>3-&gt;7</title>\n",
       "<path d=\"M597,-260.319C597,-245.178 597,-227.942 597,-212.554\" fill=\"none\" stroke=\"black\"/>\n",
       "<polygon fill=\"black\" points=\"600.5,-212.244 597,-202.244 593.5,-212.244 600.5,-212.244\" stroke=\"black\"/>\n",
       "</g>\n",
       "<!-- 5 -->\n",
       "<g class=\"node\" id=\"node6\"><title>5</title>\n",
       "<polygon fill=\"#39e55e\" points=\"218,-75.5 0,-75.5 0,-7.5 218,-7.5 218,-75.5\" stroke=\"black\"/>\n",
       "<text font-family=\"Times New Roman,serif\" font-size=\"14.00\" text-anchor=\"middle\" x=\"109\" y=\"-60.3\">gini = 0.0</text>\n",
       "<text font-family=\"Times New Roman,serif\" font-size=\"14.00\" text-anchor=\"middle\" x=\"109\" y=\"-45.3\">samples = 165</text>\n",
       "<text font-family=\"Times New Roman,serif\" font-size=\"14.00\" text-anchor=\"middle\" x=\"109\" y=\"-30.3\">value = [0, 0, 0, 165, 0, 0, 0, 0, 0, 0]</text>\n",
       "<text font-family=\"Times New Roman,serif\" font-size=\"14.00\" text-anchor=\"middle\" x=\"109\" y=\"-15.3\">class = 4</text>\n",
       "</g>\n",
       "<!-- 4&#45;&gt;5 -->\n",
       "<g class=\"edge\" id=\"edge5\"><title>4-&gt;5</title>\n",
       "<path d=\"M272.769,-126.406C243.775,-111.551 211.112,-94.8166 182.628,-80.2228\" fill=\"none\" stroke=\"black\"/>\n",
       "<polygon fill=\"black\" points=\"184.032,-77.0098 173.536,-75.5649 180.84,-83.2397 184.032,-77.0098\" stroke=\"black\"/>\n",
       "</g>\n",
       "<!-- 6 -->\n",
       "<g class=\"node\" id=\"node7\"><title>6</title>\n",
       "<polygon fill=\"#e1bef6\" points=\"468,-75.5 236,-75.5 236,-7.5 468,-7.5 468,-75.5\" stroke=\"black\"/>\n",
       "<text font-family=\"Times New Roman,serif\" font-size=\"14.00\" text-anchor=\"middle\" x=\"352\" y=\"-60.3\">gini = 0.48</text>\n",
       "<text font-family=\"Times New Roman,serif\" font-size=\"14.00\" text-anchor=\"middle\" x=\"352\" y=\"-45.3\">samples = 835</text>\n",
       "<text font-family=\"Times New Roman,serif\" font-size=\"14.00\" text-anchor=\"middle\" x=\"352\" y=\"-30.3\">value = [0, 0, 0, 335, 0, 0, 0, 500, 0, 0]</text>\n",
       "<text font-family=\"Times New Roman,serif\" font-size=\"14.00\" text-anchor=\"middle\" x=\"352\" y=\"-15.3\">class = 8</text>\n",
       "</g>\n",
       "<!-- 4&#45;&gt;6 -->\n",
       "<g class=\"edge\" id=\"edge6\"><title>4-&gt;6</title>\n",
       "<path d=\"M352,-126.234C352,-113.364 352,-99.0969 352,-86.0406\" fill=\"none\" stroke=\"black\"/>\n",
       "<polygon fill=\"black\" points=\"355.5,-85.879 352,-75.8791 348.5,-85.8791 355.5,-85.879\" stroke=\"black\"/>\n",
       "</g>\n",
       "<!-- 9 -->\n",
       "<g class=\"node\" id=\"node10\"><title>9</title>\n",
       "<polygon fill=\"#fffffe\" points=\"1068.5,-217 727.5,-217 727.5,-119 1068.5,-119 1068.5,-217\" stroke=\"black\"/>\n",
       "<text font-family=\"Times New Roman,serif\" font-size=\"14.00\" text-anchor=\"middle\" x=\"898\" y=\"-201.8\">size &lt;= 5.915</text>\n",
       "<text font-family=\"Times New Roman,serif\" font-size=\"14.00\" text-anchor=\"middle\" x=\"898\" y=\"-186.8\">gini = 0.868</text>\n",
       "<text font-family=\"Times New Roman,serif\" font-size=\"14.00\" text-anchor=\"middle\" x=\"898\" y=\"-171.8\">samples = 9029</text>\n",
       "<text font-family=\"Times New Roman,serif\" font-size=\"14.00\" text-anchor=\"middle\" x=\"898\" y=\"-156.8\">value = [1485, 786, 218, 1433, 1455, 707, 1451, 1000, 288</text>\n",
       "<text font-family=\"Times New Roman,serif\" font-size=\"14.00\" text-anchor=\"middle\" x=\"898\" y=\"-141.8\">206]</text>\n",
       "<text font-family=\"Times New Roman,serif\" font-size=\"14.00\" text-anchor=\"middle\" x=\"898\" y=\"-126.8\">class = 1</text>\n",
       "</g>\n",
       "<!-- 8&#45;&gt;9 -->\n",
       "<g class=\"edge\" id=\"edge9\"><title>8-&gt;9</title>\n",
       "<path d=\"M1008.69,-252.972C995.976,-243.326 982.531,-233.127 969.559,-223.286\" fill=\"none\" stroke=\"black\"/>\n",
       "<polygon fill=\"black\" points=\"971.637,-220.469 961.555,-217.214 967.406,-226.046 971.637,-220.469\" stroke=\"black\"/>\n",
       "</g>\n",
       "<!-- 12 -->\n",
       "<g class=\"node\" id=\"node13\"><title>12</title>\n",
       "<polygon fill=\"#fffeff\" points=\"1385.5,-209.5 1086.5,-209.5 1086.5,-126.5 1385.5,-126.5 1385.5,-209.5\" stroke=\"black\"/>\n",
       "<text font-family=\"Times New Roman,serif\" font-size=\"14.00\" text-anchor=\"middle\" x=\"1236\" y=\"-194.3\">y1 &lt;= 3.0</text>\n",
       "<text font-family=\"Times New Roman,serif\" font-size=\"14.00\" text-anchor=\"middle\" x=\"1236\" y=\"-179.3\">gini = 0.799</text>\n",
       "<text font-family=\"Times New Roman,serif\" font-size=\"14.00\" text-anchor=\"middle\" x=\"1236\" y=\"-164.3\">samples = 1395</text>\n",
       "<text font-family=\"Times New Roman,serif\" font-size=\"14.00\" text-anchor=\"middle\" x=\"1236\" y=\"-149.3\">value = [49, 25, 339, 107, 103, 17, 49, 0, 356, 350]</text>\n",
       "<text font-family=\"Times New Roman,serif\" font-size=\"14.00\" text-anchor=\"middle\" x=\"1236\" y=\"-134.3\">class = 9</text>\n",
       "</g>\n",
       "<!-- 8&#45;&gt;12 -->\n",
       "<g class=\"edge\" id=\"edge12\"><title>8-&gt;12</title>\n",
       "<path d=\"M1131.67,-252.972C1146.59,-240.968 1162.57,-228.105 1177.43,-216.144\" fill=\"none\" stroke=\"black\"/>\n",
       "<polygon fill=\"black\" points=\"1179.96,-218.6 1185.55,-209.603 1175.57,-213.147 1179.96,-218.6\" stroke=\"black\"/>\n",
       "</g>\n",
       "<!-- 10 -->\n",
       "<g class=\"node\" id=\"node11\"><title>10</title>\n",
       "<polygon fill=\"#8fc8f0\" points=\"711.5,-75.5 486.5,-75.5 486.5,-7.5 711.5,-7.5 711.5,-75.5\" stroke=\"black\"/>\n",
       "<text font-family=\"Times New Roman,serif\" font-size=\"14.00\" text-anchor=\"middle\" x=\"599\" y=\"-60.3\">gini = 0.441</text>\n",
       "<text font-family=\"Times New Roman,serif\" font-size=\"14.00\" text-anchor=\"middle\" x=\"599\" y=\"-45.3\">samples = 177</text>\n",
       "<text font-family=\"Times New Roman,serif\" font-size=\"14.00\" text-anchor=\"middle\" x=\"599\" y=\"-30.3\">value = [4, 51, 0, 0, 0, 122, 0, 0, 0, 0]</text>\n",
       "<text font-family=\"Times New Roman,serif\" font-size=\"14.00\" text-anchor=\"middle\" x=\"599\" y=\"-15.3\">class = 6</text>\n",
       "</g>\n",
       "<!-- 9&#45;&gt;10 -->\n",
       "<g class=\"edge\" id=\"edge10\"><title>9-&gt;10</title>\n",
       "<path d=\"M782.399,-118.865C751.111,-105.837 717.731,-91.9384 688.143,-79.6181\" fill=\"none\" stroke=\"black\"/>\n",
       "<polygon fill=\"black\" points=\"689.254,-76.2895 678.677,-75.6765 686.563,-82.7517 689.254,-76.2895\" stroke=\"black\"/>\n",
       "</g>\n",
       "<!-- 11 -->\n",
       "<g class=\"node\" id=\"node12\"><title>11</title>\n",
       "<polygon fill=\"#fffffe\" points=\"1070.5,-83 729.5,-83 729.5,-0 1070.5,-0 1070.5,-83\" stroke=\"black\"/>\n",
       "<text font-family=\"Times New Roman,serif\" font-size=\"14.00\" text-anchor=\"middle\" x=\"900\" y=\"-67.8\">gini = 0.866</text>\n",
       "<text font-family=\"Times New Roman,serif\" font-size=\"14.00\" text-anchor=\"middle\" x=\"900\" y=\"-52.8\">samples = 8852</text>\n",
       "<text font-family=\"Times New Roman,serif\" font-size=\"14.00\" text-anchor=\"middle\" x=\"900\" y=\"-37.8\">value = [1481, 735, 218, 1433, 1455, 585, 1451, 1000, 288</text>\n",
       "<text font-family=\"Times New Roman,serif\" font-size=\"14.00\" text-anchor=\"middle\" x=\"900\" y=\"-22.8\">206]</text>\n",
       "<text font-family=\"Times New Roman,serif\" font-size=\"14.00\" text-anchor=\"middle\" x=\"900\" y=\"-7.8\">class = 1</text>\n",
       "</g>\n",
       "<!-- 9&#45;&gt;11 -->\n",
       "<g class=\"edge\" id=\"edge11\"><title>9-&gt;11</title>\n",
       "<path d=\"M898.773,-118.865C898.908,-110.498 899.048,-101.771 899.183,-93.3346\" fill=\"none\" stroke=\"black\"/>\n",
       "<polygon fill=\"black\" points=\"902.685,-93.2859 899.346,-83.231 895.685,-93.1734 902.685,-93.2859\" stroke=\"black\"/>\n",
       "</g>\n",
       "<!-- 13 -->\n",
       "<g class=\"node\" id=\"node14\"><title>13</title>\n",
       "<polygon fill=\"#fffdfe\" points=\"1333.5,-75.5 1088.5,-75.5 1088.5,-7.5 1333.5,-7.5 1333.5,-75.5\" stroke=\"black\"/>\n",
       "<text font-family=\"Times New Roman,serif\" font-size=\"14.00\" text-anchor=\"middle\" x=\"1211\" y=\"-60.3\">gini = 0.667</text>\n",
       "<text font-family=\"Times New Roman,serif\" font-size=\"14.00\" text-anchor=\"middle\" x=\"1211\" y=\"-45.3\">samples = 1045</text>\n",
       "<text font-family=\"Times New Roman,serif\" font-size=\"14.00\" text-anchor=\"middle\" x=\"1211\" y=\"-30.3\">value = [0, 0, 339, 0, 0, 0, 0, 0, 356, 350]</text>\n",
       "<text font-family=\"Times New Roman,serif\" font-size=\"14.00\" text-anchor=\"middle\" x=\"1211\" y=\"-15.3\">class = 9</text>\n",
       "</g>\n",
       "<!-- 12&#45;&gt;13 -->\n",
       "<g class=\"edge\" id=\"edge13\"><title>12-&gt;13</title>\n",
       "<path d=\"M1227.81,-126.234C1225.23,-113.364 1222.36,-99.0969 1219.74,-86.0406\" fill=\"none\" stroke=\"black\"/>\n",
       "<polygon fill=\"black\" points=\"1223.1,-84.9943 1217.7,-75.8791 1216.24,-86.3724 1223.1,-84.9943\" stroke=\"black\"/>\n",
       "</g>\n",
       "<!-- 14 -->\n",
       "<g class=\"node\" id=\"node15\"><title>14</title>\n",
       "<polygon fill=\"#fcfffc\" points=\"1610.5,-75.5 1351.5,-75.5 1351.5,-7.5 1610.5,-7.5 1610.5,-75.5\" stroke=\"black\"/>\n",
       "<text font-family=\"Times New Roman,serif\" font-size=\"14.00\" text-anchor=\"middle\" x=\"1481\" y=\"-60.3\">gini = 0.773</text>\n",
       "<text font-family=\"Times New Roman,serif\" font-size=\"14.00\" text-anchor=\"middle\" x=\"1481\" y=\"-45.3\">samples = 350</text>\n",
       "<text font-family=\"Times New Roman,serif\" font-size=\"14.00\" text-anchor=\"middle\" x=\"1481\" y=\"-30.3\">value = [49, 25, 0, 107, 103, 17, 49, 0, 0, 0]</text>\n",
       "<text font-family=\"Times New Roman,serif\" font-size=\"14.00\" text-anchor=\"middle\" x=\"1481\" y=\"-15.3\">class = 4</text>\n",
       "</g>\n",
       "<!-- 12&#45;&gt;14 -->\n",
       "<g class=\"edge\" id=\"edge14\"><title>12-&gt;14</title>\n",
       "<path d=\"M1315.88,-126.406C1345.12,-111.551 1378.05,-94.8166 1406.77,-80.2228\" fill=\"none\" stroke=\"black\"/>\n",
       "<polygon fill=\"black\" points=\"1408.6,-83.2155 1415.93,-75.5649 1405.43,-76.975 1408.6,-83.2155\" stroke=\"black\"/>\n",
       "</g>\n",
       "<!-- 16 -->\n",
       "<g class=\"node\" id=\"node17\"><title>16</title>\n",
       "<polygon fill=\"#7be539\" points=\"1980,-336 1762,-336 1762,-268 1980,-268 1980,-336\" stroke=\"black\"/>\n",
       "<text font-family=\"Times New Roman,serif\" font-size=\"14.00\" text-anchor=\"middle\" x=\"1871\" y=\"-320.8\">gini = 0.0</text>\n",
       "<text font-family=\"Times New Roman,serif\" font-size=\"14.00\" text-anchor=\"middle\" x=\"1871\" y=\"-305.8\">samples = 500</text>\n",
       "<text font-family=\"Times New Roman,serif\" font-size=\"14.00\" text-anchor=\"middle\" x=\"1871\" y=\"-290.8\">value = [0, 0, 500, 0, 0, 0, 0, 0, 0, 0]</text>\n",
       "<text font-family=\"Times New Roman,serif\" font-size=\"14.00\" text-anchor=\"middle\" x=\"1871\" y=\"-275.8\">class = 3</text>\n",
       "</g>\n",
       "<!-- 15&#45;&gt;16 -->\n",
       "<g class=\"edge\" id=\"edge16\"><title>15-&gt;16</title>\n",
       "<path d=\"M1972.7,-394.319C1954.54,-378.013 1933.67,-359.277 1915.59,-343.037\" fill=\"none\" stroke=\"black\"/>\n",
       "<polygon fill=\"black\" points=\"1917.8,-340.321 1908.02,-336.244 1913.12,-345.529 1917.8,-340.321\" stroke=\"black\"/>\n",
       "</g>\n",
       "<!-- 17 -->\n",
       "<g class=\"node\" id=\"node18\"><title>17</title>\n",
       "<polygon fill=\"#e1f0fb\" points=\"2331.5,-343.5 1998.5,-343.5 1998.5,-260.5 2331.5,-260.5 2331.5,-343.5\" stroke=\"black\"/>\n",
       "<text font-family=\"Times New Roman,serif\" font-size=\"14.00\" text-anchor=\"middle\" x=\"2165\" y=\"-328.3\">y1 &lt;= 11.5</text>\n",
       "<text font-family=\"Times New Roman,serif\" font-size=\"14.00\" text-anchor=\"middle\" x=\"2165\" y=\"-313.3\">gini = 0.835</text>\n",
       "<text font-family=\"Times New Roman,serif\" font-size=\"14.00\" text-anchor=\"middle\" x=\"2165\" y=\"-298.3\">samples = 7288</text>\n",
       "<text font-family=\"Times New Roman,serif\" font-size=\"14.00\" text-anchor=\"middle\" x=\"2165\" y=\"-283.3\">value = [1069, 1048, 972, 92, 84, 2022, 988, 0, 466, 547]</text>\n",
       "<text font-family=\"Times New Roman,serif\" font-size=\"14.00\" text-anchor=\"middle\" x=\"2165\" y=\"-268.3\">class = 6</text>\n",
       "</g>\n",
       "<!-- 15&#45;&gt;17 -->\n",
       "<g class=\"edge\" id=\"edge17\"><title>15-&gt;17</title>\n",
       "<path d=\"M2063.3,-394.319C2078.75,-380.453 2096.14,-364.829 2112.13,-350.477\" fill=\"none\" stroke=\"black\"/>\n",
       "<polygon fill=\"black\" points=\"2114.74,-352.833 2119.85,-343.547 2110.07,-347.624 2114.74,-352.833\" stroke=\"black\"/>\n",
       "</g>\n",
       "<!-- 18 -->\n",
       "<g class=\"node\" id=\"node19\"><title>18</title>\n",
       "<polygon fill=\"#c6e3f7\" points=\"2147.5,-209.5 1868.5,-209.5 1868.5,-126.5 2147.5,-126.5 2147.5,-209.5\" stroke=\"black\"/>\n",
       "<text font-family=\"Times New Roman,serif\" font-size=\"14.00\" text-anchor=\"middle\" x=\"2008\" y=\"-194.3\">x2 &lt;= 5.5</text>\n",
       "<text font-family=\"Times New Roman,serif\" font-size=\"14.00\" text-anchor=\"middle\" x=\"2008\" y=\"-179.3\">gini = 0.721</text>\n",
       "<text font-family=\"Times New Roman,serif\" font-size=\"14.00\" text-anchor=\"middle\" x=\"2008\" y=\"-164.3\">samples = 4315</text>\n",
       "<text font-family=\"Times New Roman,serif\" font-size=\"14.00\" text-anchor=\"middle\" x=\"2008\" y=\"-149.3\">value = [736, 833, 145, 0, 0, 1840, 747, 0, 8, 6]</text>\n",
       "<text font-family=\"Times New Roman,serif\" font-size=\"14.00\" text-anchor=\"middle\" x=\"2008\" y=\"-134.3\">class = 6</text>\n",
       "</g>\n",
       "<!-- 17&#45;&gt;18 -->\n",
       "<g class=\"edge\" id=\"edge18\"><title>17-&gt;18</title>\n",
       "<path d=\"M2116.61,-260.319C2099.97,-246.326 2081.2,-230.545 2064,-216.086\" fill=\"none\" stroke=\"black\"/>\n",
       "<polygon fill=\"black\" points=\"2066.13,-213.304 2056.23,-209.547 2061.63,-218.661 2066.13,-213.304\" stroke=\"black\"/>\n",
       "</g>\n",
       "<!-- 21 -->\n",
       "<g class=\"node\" id=\"node22\"><title>21</title>\n",
       "<polygon fill=\"#effce8\" points=\"2478.5,-209.5 2165.5,-209.5 2165.5,-126.5 2478.5,-126.5 2478.5,-209.5\" stroke=\"black\"/>\n",
       "<text font-family=\"Times New Roman,serif\" font-size=\"14.00\" text-anchor=\"middle\" x=\"2322\" y=\"-194.3\">x2 &lt;= 2.5</text>\n",
       "<text font-family=\"Times New Roman,serif\" font-size=\"14.00\" text-anchor=\"middle\" x=\"2322\" y=\"-179.3\">gini = 0.836</text>\n",
       "<text font-family=\"Times New Roman,serif\" font-size=\"14.00\" text-anchor=\"middle\" x=\"2322\" y=\"-164.3\">samples = 2973</text>\n",
       "<text font-family=\"Times New Roman,serif\" font-size=\"14.00\" text-anchor=\"middle\" x=\"2322\" y=\"-149.3\">value = [333, 215, 827, 92, 84, 182, 241, 0, 458, 541]</text>\n",
       "<text font-family=\"Times New Roman,serif\" font-size=\"14.00\" text-anchor=\"middle\" x=\"2322\" y=\"-134.3\">class = 3</text>\n",
       "</g>\n",
       "<!-- 17&#45;&gt;21 -->\n",
       "<g class=\"edge\" id=\"edge21\"><title>17-&gt;21</title>\n",
       "<path d=\"M2213.39,-260.319C2230.03,-246.326 2248.8,-230.545 2266,-216.086\" fill=\"none\" stroke=\"black\"/>\n",
       "<polygon fill=\"black\" points=\"2268.37,-218.661 2273.77,-209.547 2263.87,-213.304 2268.37,-218.661\" stroke=\"black\"/>\n",
       "</g>\n",
       "<!-- 19 -->\n",
       "<g class=\"node\" id=\"node20\"><title>19</title>\n",
       "<polygon fill=\"#f2f9fd\" points=\"1867.5,-75.5 1628.5,-75.5 1628.5,-7.5 1867.5,-7.5 1867.5,-75.5\" stroke=\"black\"/>\n",
       "<text font-family=\"Times New Roman,serif\" font-size=\"14.00\" text-anchor=\"middle\" x=\"1748\" y=\"-60.3\">gini = 0.535</text>\n",
       "<text font-family=\"Times New Roman,serif\" font-size=\"14.00\" text-anchor=\"middle\" x=\"1748\" y=\"-45.3\">samples = 1477</text>\n",
       "<text font-family=\"Times New Roman,serif\" font-size=\"14.00\" text-anchor=\"middle\" x=\"1748\" y=\"-30.3\">value = [30, 686, 7, 0, 0, 737, 3, 0, 8, 6]</text>\n",
       "<text font-family=\"Times New Roman,serif\" font-size=\"14.00\" text-anchor=\"middle\" x=\"1748\" y=\"-15.3\">class = 6</text>\n",
       "</g>\n",
       "<!-- 18&#45;&gt;19 -->\n",
       "<g class=\"edge\" id=\"edge19\"><title>18-&gt;19</title>\n",
       "<path d=\"M1923.23,-126.406C1892.07,-111.487 1856.95,-94.6717 1826.38,-80.0334\" fill=\"none\" stroke=\"black\"/>\n",
       "<polygon fill=\"black\" points=\"1827.58,-76.7271 1817.05,-75.5649 1824.56,-83.0406 1827.58,-76.7271\" stroke=\"black\"/>\n",
       "</g>\n",
       "<!-- 20 -->\n",
       "<g class=\"node\" id=\"node21\"><title>20</title>\n",
       "<polygon fill=\"#ddeefb\" points=\"2164.5,-75.5 1885.5,-75.5 1885.5,-7.5 2164.5,-7.5 2164.5,-75.5\" stroke=\"black\"/>\n",
       "<text font-family=\"Times New Roman,serif\" font-size=\"14.00\" text-anchor=\"middle\" x=\"2025\" y=\"-60.3\">gini = 0.713</text>\n",
       "<text font-family=\"Times New Roman,serif\" font-size=\"14.00\" text-anchor=\"middle\" x=\"2025\" y=\"-45.3\">samples = 2838</text>\n",
       "<text font-family=\"Times New Roman,serif\" font-size=\"14.00\" text-anchor=\"middle\" x=\"2025\" y=\"-30.3\">value = [706, 147, 138, 0, 0, 1103, 744, 0, 0, 0]</text>\n",
       "<text font-family=\"Times New Roman,serif\" font-size=\"14.00\" text-anchor=\"middle\" x=\"2025\" y=\"-15.3\">class = 6</text>\n",
       "</g>\n",
       "<!-- 18&#45;&gt;20 -->\n",
       "<g class=\"edge\" id=\"edge20\"><title>18-&gt;20</title>\n",
       "<path d=\"M2013.57,-126.234C2015.32,-113.364 2017.27,-99.0969 2019.05,-86.0406\" fill=\"none\" stroke=\"black\"/>\n",
       "<polygon fill=\"black\" points=\"2022.56,-86.2607 2020.44,-75.8791 2015.62,-85.3136 2022.56,-86.2607\" stroke=\"black\"/>\n",
       "</g>\n",
       "<!-- 22 -->\n",
       "<g class=\"node\" id=\"node23\"><title>22</title>\n",
       "<polygon fill=\"#fbdfe4\" points=\"2427.5,-75.5 2182.5,-75.5 2182.5,-7.5 2427.5,-7.5 2427.5,-75.5\" stroke=\"black\"/>\n",
       "<text font-family=\"Times New Roman,serif\" font-size=\"14.00\" text-anchor=\"middle\" x=\"2305\" y=\"-60.3\">gini = 0.546</text>\n",
       "<text font-family=\"Times New Roman,serif\" font-size=\"14.00\" text-anchor=\"middle\" x=\"2305\" y=\"-45.3\">samples = 775</text>\n",
       "<text font-family=\"Times New Roman,serif\" font-size=\"14.00\" text-anchor=\"middle\" x=\"2305\" y=\"-30.3\">value = [15, 0, 0, 0, 0, 26, 0, 0, 331, 403]</text>\n",
       "<text font-family=\"Times New Roman,serif\" font-size=\"14.00\" text-anchor=\"middle\" x=\"2305\" y=\"-15.3\">class = 10</text>\n",
       "</g>\n",
       "<!-- 21&#45;&gt;22 -->\n",
       "<g class=\"edge\" id=\"edge22\"><title>21-&gt;22</title>\n",
       "<path d=\"M2316.43,-126.234C2314.68,-113.364 2312.73,-99.0969 2310.95,-86.0406\" fill=\"none\" stroke=\"black\"/>\n",
       "<polygon fill=\"black\" points=\"2314.38,-85.3136 2309.56,-75.8791 2307.44,-86.2607 2314.38,-85.3136\" stroke=\"black\"/>\n",
       "</g>\n",
       "<!-- 23 -->\n",
       "<g class=\"node\" id=\"node24\"><title>23</title>\n",
       "<polygon fill=\"#dbf8c9\" points=\"2758.5,-75.5 2445.5,-75.5 2445.5,-7.5 2758.5,-7.5 2758.5,-75.5\" stroke=\"black\"/>\n",
       "<text font-family=\"Times New Roman,serif\" font-size=\"14.00\" text-anchor=\"middle\" x=\"2602\" y=\"-60.3\">gini = 0.8</text>\n",
       "<text font-family=\"Times New Roman,serif\" font-size=\"14.00\" text-anchor=\"middle\" x=\"2602\" y=\"-45.3\">samples = 2198</text>\n",
       "<text font-family=\"Times New Roman,serif\" font-size=\"14.00\" text-anchor=\"middle\" x=\"2602\" y=\"-30.3\">value = [318, 215, 827, 92, 84, 156, 241, 0, 127, 138]</text>\n",
       "<text font-family=\"Times New Roman,serif\" font-size=\"14.00\" text-anchor=\"middle\" x=\"2602\" y=\"-15.3\">class = 3</text>\n",
       "</g>\n",
       "<!-- 21&#45;&gt;23 -->\n",
       "<g class=\"edge\" id=\"edge23\"><title>21-&gt;23</title>\n",
       "<path d=\"M2413.3,-126.406C2447.14,-111.358 2485.32,-94.3816 2518.44,-79.6553\" fill=\"none\" stroke=\"black\"/>\n",
       "<polygon fill=\"black\" points=\"2519.92,-82.826 2527.64,-75.5649 2517.08,-76.4298 2519.92,-82.826\" stroke=\"black\"/>\n",
       "</g>\n",
       "<!-- 25 -->\n",
       "<g class=\"node\" id=\"node26\"><title>25</title>\n",
       "<polygon fill=\"#fef9fd\" points=\"3869,-477.5 3563,-477.5 3563,-394.5 3869,-394.5 3869,-477.5\" stroke=\"black\"/>\n",
       "<text font-family=\"Times New Roman,serif\" font-size=\"14.00\" text-anchor=\"middle\" x=\"3716\" y=\"-462.3\">size &lt;= 12.02</text>\n",
       "<text font-family=\"Times New Roman,serif\" font-size=\"14.00\" text-anchor=\"middle\" x=\"3716\" y=\"-447.3\">gini = 0.83</text>\n",
       "<text font-family=\"Times New Roman,serif\" font-size=\"14.00\" text-anchor=\"middle\" x=\"3716\" y=\"-432.3\">samples = 2589</text>\n",
       "<text font-family=\"Times New Roman,serif\" font-size=\"14.00\" text-anchor=\"middle\" x=\"3716\" y=\"-417.3\">value = [311, 105, 425, 221, 241, 64, 8, 0, 635, 579]</text>\n",
       "<text font-family=\"Times New Roman,serif\" font-size=\"14.00\" text-anchor=\"middle\" x=\"3716\" y=\"-402.3\">class = 9</text>\n",
       "</g>\n",
       "<!-- 24&#45;&gt;25 -->\n",
       "<g class=\"edge\" id=\"edge25\"><title>24-&gt;25</title>\n",
       "<path d=\"M3716,-528.319C3716,-515.521 3716,-501.227 3716,-487.817\" fill=\"none\" stroke=\"black\"/>\n",
       "<polygon fill=\"black\" points=\"3719.5,-487.774 3716,-477.774 3712.5,-487.774 3719.5,-487.774\" stroke=\"black\"/>\n",
       "</g>\n",
       "<!-- 40 -->\n",
       "<g class=\"node\" id=\"node41\"><title>40</title>\n",
       "<polygon fill=\"#fdf1f3\" points=\"5151.5,-477.5 4838.5,-477.5 4838.5,-394.5 5151.5,-394.5 5151.5,-477.5\" stroke=\"black\"/>\n",
       "<text font-family=\"Times New Roman,serif\" font-size=\"14.00\" text-anchor=\"middle\" x=\"4995\" y=\"-462.3\">x2 &lt;= 23.5</text>\n",
       "<text font-family=\"Times New Roman,serif\" font-size=\"14.00\" text-anchor=\"middle\" x=\"4995\" y=\"-447.3\">gini = 0.674</text>\n",
       "<text font-family=\"Times New Roman,serif\" font-size=\"14.00\" text-anchor=\"middle\" x=\"4995\" y=\"-432.3\">samples = 3318</text>\n",
       "<text font-family=\"Times New Roman,serif\" font-size=\"14.00\" text-anchor=\"middle\" x=\"4995\" y=\"-417.3\">value = [118, 35, 55, 147, 117, 203, 4, 0, 1244, 1395]</text>\n",
       "<text font-family=\"Times New Roman,serif\" font-size=\"14.00\" text-anchor=\"middle\" x=\"4995\" y=\"-402.3\">class = 10</text>\n",
       "</g>\n",
       "<!-- 24&#45;&gt;40 -->\n",
       "<g class=\"edge\" id=\"edge40\"><title>24-&gt;40</title>\n",
       "<path d=\"M3882.55,-551.811C4127.61,-526.52 4582.73,-479.549 4828.03,-454.233\" fill=\"none\" stroke=\"black\"/>\n",
       "<polygon fill=\"black\" points=\"4828.52,-457.701 4838.1,-453.193 4827.8,-450.738 4828.52,-457.701\" stroke=\"black\"/>\n",
       "</g>\n",
       "<!-- 26 -->\n",
       "<g class=\"node\" id=\"node27\"><title>26</title>\n",
       "<polygon fill=\"#fdf3fb\" points=\"3666,-343.5 3380,-343.5 3380,-260.5 3666,-260.5 3666,-343.5\" stroke=\"black\"/>\n",
       "<text font-family=\"Times New Roman,serif\" font-size=\"14.00\" text-anchor=\"middle\" x=\"3523\" y=\"-328.3\">x2 &lt;= 15.5</text>\n",
       "<text font-family=\"Times New Roman,serif\" font-size=\"14.00\" text-anchor=\"middle\" x=\"3523\" y=\"-313.3\">gini = 0.747</text>\n",
       "<text font-family=\"Times New Roman,serif\" font-size=\"14.00\" text-anchor=\"middle\" x=\"3523\" y=\"-298.3\">samples = 1425</text>\n",
       "<text font-family=\"Times New Roman,serif\" font-size=\"14.00\" text-anchor=\"middle\" x=\"3523\" y=\"-283.3\">value = [135, 32, 151, 47, 79, 15, 5, 0, 511, 450]</text>\n",
       "<text font-family=\"Times New Roman,serif\" font-size=\"14.00\" text-anchor=\"middle\" x=\"3523\" y=\"-268.3\">class = 9</text>\n",
       "</g>\n",
       "<!-- 25&#45;&gt;26 -->\n",
       "<g class=\"edge\" id=\"edge26\"><title>25-&gt;26</title>\n",
       "<path d=\"M3656.78,-394.499C3635.95,-380.248 3612.37,-364.123 3590.88,-349.423\" fill=\"none\" stroke=\"black\"/>\n",
       "<polygon fill=\"black\" points=\"3592.67,-346.409 3582.44,-343.652 3588.72,-352.187 3592.67,-346.409\" stroke=\"black\"/>\n",
       "</g>\n",
       "<!-- 33 -->\n",
       "<g class=\"node\" id=\"node34\"><title>33</title>\n",
       "<polygon fill=\"#f2fceb\" points=\"4187.5,-343.5 3888.5,-343.5 3888.5,-260.5 4187.5,-260.5 4187.5,-343.5\" stroke=\"black\"/>\n",
       "<text font-family=\"Times New Roman,serif\" font-size=\"14.00\" text-anchor=\"middle\" x=\"4038\" y=\"-328.3\">y2 &lt;= 27.5</text>\n",
       "<text font-family=\"Times New Roman,serif\" font-size=\"14.00\" text-anchor=\"middle\" x=\"4038\" y=\"-313.3\">gini = 0.851</text>\n",
       "<text font-family=\"Times New Roman,serif\" font-size=\"14.00\" text-anchor=\"middle\" x=\"4038\" y=\"-298.3\">samples = 1164</text>\n",
       "<text font-family=\"Times New Roman,serif\" font-size=\"14.00\" text-anchor=\"middle\" x=\"4038\" y=\"-283.3\">value = [176, 73, 274, 174, 162, 49, 3, 0, 124, 129]</text>\n",
       "<text font-family=\"Times New Roman,serif\" font-size=\"14.00\" text-anchor=\"middle\" x=\"4038\" y=\"-268.3\">class = 3</text>\n",
       "</g>\n",
       "<!-- 25&#45;&gt;33 -->\n",
       "<g class=\"edge\" id=\"edge33\"><title>25-&gt;33</title>\n",
       "<path d=\"M3814.8,-394.499C3851.19,-379.583 3892.58,-362.613 3929.76,-347.373\" fill=\"none\" stroke=\"black\"/>\n",
       "<polygon fill=\"black\" points=\"3931.19,-350.57 3939.11,-343.538 3928.53,-344.093 3931.19,-350.57\" stroke=\"black\"/>\n",
       "</g>\n",
       "<!-- 27 -->\n",
       "<g class=\"node\" id=\"node28\"><title>27</title>\n",
       "<polygon fill=\"#fcebf9\" points=\"3306,-209.5 3040,-209.5 3040,-126.5 3306,-126.5 3306,-209.5\" stroke=\"black\"/>\n",
       "<text font-family=\"Times New Roman,serif\" font-size=\"14.00\" text-anchor=\"middle\" x=\"3173\" y=\"-194.3\">x1 &lt;= 2.5</text>\n",
       "<text font-family=\"Times New Roman,serif\" font-size=\"14.00\" text-anchor=\"middle\" x=\"3173\" y=\"-179.3\">gini = 0.717</text>\n",
       "<text font-family=\"Times New Roman,serif\" font-size=\"14.00\" text-anchor=\"middle\" x=\"3173\" y=\"-164.3\">samples = 1120</text>\n",
       "<text font-family=\"Times New Roman,serif\" font-size=\"14.00\" text-anchor=\"middle\" x=\"3173\" y=\"-149.3\">value = [111, 0, 71, 47, 79, 1, 4, 0, 442, 365]</text>\n",
       "<text font-family=\"Times New Roman,serif\" font-size=\"14.00\" text-anchor=\"middle\" x=\"3173\" y=\"-134.3\">class = 9</text>\n",
       "</g>\n",
       "<!-- 26&#45;&gt;27 -->\n",
       "<g class=\"edge\" id=\"edge27\"><title>26-&gt;27</title>\n",
       "<path d=\"M3415.61,-260.499C3375.81,-245.488 3330.49,-228.397 3289.89,-213.083\" fill=\"none\" stroke=\"black\"/>\n",
       "<polygon fill=\"black\" points=\"3291.08,-209.793 3280.49,-209.538 3288.61,-216.342 3291.08,-209.793\" stroke=\"black\"/>\n",
       "</g>\n",
       "<!-- 30 -->\n",
       "<g class=\"node\" id=\"node31\"><title>30</title>\n",
       "<polygon fill=\"#fefbfb\" points=\"3645.5,-209.5 3400.5,-209.5 3400.5,-126.5 3645.5,-126.5 3645.5,-209.5\" stroke=\"black\"/>\n",
       "<text font-family=\"Times New Roman,serif\" font-size=\"14.00\" text-anchor=\"middle\" x=\"3523\" y=\"-194.3\">y2 &lt;= 31.5</text>\n",
       "<text font-family=\"Times New Roman,serif\" font-size=\"14.00\" text-anchor=\"middle\" x=\"3523\" y=\"-179.3\">gini = 0.783</text>\n",
       "<text font-family=\"Times New Roman,serif\" font-size=\"14.00\" text-anchor=\"middle\" x=\"3523\" y=\"-164.3\">samples = 305</text>\n",
       "<text font-family=\"Times New Roman,serif\" font-size=\"14.00\" text-anchor=\"middle\" x=\"3523\" y=\"-149.3\">value = [24, 32, 80, 0, 0, 14, 1, 0, 69, 85]</text>\n",
       "<text font-family=\"Times New Roman,serif\" font-size=\"14.00\" text-anchor=\"middle\" x=\"3523\" y=\"-134.3\">class = 10</text>\n",
       "</g>\n",
       "<!-- 26&#45;&gt;30 -->\n",
       "<g class=\"edge\" id=\"edge30\"><title>26-&gt;30</title>\n",
       "<path d=\"M3523,-260.319C3523,-247.521 3523,-233.227 3523,-219.817\" fill=\"none\" stroke=\"black\"/>\n",
       "<polygon fill=\"black\" points=\"3526.5,-219.774 3523,-209.774 3519.5,-219.774 3526.5,-219.774\" stroke=\"black\"/>\n",
       "</g>\n",
       "<!-- 28 -->\n",
       "<g class=\"node\" id=\"node29\"><title>28</title>\n",
       "<polygon fill=\"#fef6fc\" points=\"3035.5,-75.5 2776.5,-75.5 2776.5,-7.5 3035.5,-7.5 3035.5,-75.5\" stroke=\"black\"/>\n",
       "<text font-family=\"Times New Roman,serif\" font-size=\"14.00\" text-anchor=\"middle\" x=\"2906\" y=\"-60.3\">gini = 0.796</text>\n",
       "<text font-family=\"Times New Roman,serif\" font-size=\"14.00\" text-anchor=\"middle\" x=\"2906\" y=\"-45.3\">samples = 628</text>\n",
       "<text font-family=\"Times New Roman,serif\" font-size=\"14.00\" text-anchor=\"middle\" x=\"2906\" y=\"-30.3\">value = [85, 0, 71, 47, 79, 1, 0, 0, 183, 162]</text>\n",
       "<text font-family=\"Times New Roman,serif\" font-size=\"14.00\" text-anchor=\"middle\" x=\"2906\" y=\"-15.3\">class = 9</text>\n",
       "</g>\n",
       "<!-- 27&#45;&gt;28 -->\n",
       "<g class=\"edge\" id=\"edge28\"><title>27-&gt;28</title>\n",
       "<path d=\"M3085.94,-126.406C3053.81,-111.423 3017.58,-94.5267 2986.09,-79.8442\" fill=\"none\" stroke=\"black\"/>\n",
       "<polygon fill=\"black\" points=\"2987.45,-76.6189 2976.91,-75.5649 2984.49,-82.9631 2987.45,-76.6189\" stroke=\"black\"/>\n",
       "</g>\n",
       "<!-- 29 -->\n",
       "<g class=\"node\" id=\"node30\"><title>29</title>\n",
       "<polygon fill=\"#fad9f3\" points=\"3292.5,-75.5 3053.5,-75.5 3053.5,-7.5 3292.5,-7.5 3292.5,-75.5\" stroke=\"black\"/>\n",
       "<text font-family=\"Times New Roman,serif\" font-size=\"14.00\" text-anchor=\"middle\" x=\"3173\" y=\"-60.3\">gini = 0.55</text>\n",
       "<text font-family=\"Times New Roman,serif\" font-size=\"14.00\" text-anchor=\"middle\" x=\"3173\" y=\"-45.3\">samples = 492</text>\n",
       "<text font-family=\"Times New Roman,serif\" font-size=\"14.00\" text-anchor=\"middle\" x=\"3173\" y=\"-30.3\">value = [26, 0, 0, 0, 0, 0, 4, 0, 259, 203]</text>\n",
       "<text font-family=\"Times New Roman,serif\" font-size=\"14.00\" text-anchor=\"middle\" x=\"3173\" y=\"-15.3\">class = 9</text>\n",
       "</g>\n",
       "<!-- 27&#45;&gt;29 -->\n",
       "<g class=\"edge\" id=\"edge29\"><title>27-&gt;29</title>\n",
       "<path d=\"M3173,-126.234C3173,-113.364 3173,-99.0969 3173,-86.0406\" fill=\"none\" stroke=\"black\"/>\n",
       "<polygon fill=\"black\" points=\"3176.5,-85.879 3173,-75.8791 3169.5,-85.8791 3176.5,-85.879\" stroke=\"black\"/>\n",
       "</g>\n",
       "<!-- 31 -->\n",
       "<g class=\"node\" id=\"node32\"><title>31</title>\n",
       "<polygon fill=\"#ffffff\" points=\"3543,-75.5 3311,-75.5 3311,-7.5 3543,-7.5 3543,-75.5\" stroke=\"black\"/>\n",
       "<text font-family=\"Times New Roman,serif\" font-size=\"14.00\" text-anchor=\"middle\" x=\"3427\" y=\"-60.3\">gini = 0.702</text>\n",
       "<text font-family=\"Times New Roman,serif\" font-size=\"14.00\" text-anchor=\"middle\" x=\"3427\" y=\"-45.3\">samples = 238</text>\n",
       "<text font-family=\"Times New Roman,serif\" font-size=\"14.00\" text-anchor=\"middle\" x=\"3427\" y=\"-30.3\">value = [16, 0, 80, 0, 0, 0, 0, 0, 62, 80]</text>\n",
       "<text font-family=\"Times New Roman,serif\" font-size=\"14.00\" text-anchor=\"middle\" x=\"3427\" y=\"-15.3\">class = 3</text>\n",
       "</g>\n",
       "<!-- 30&#45;&gt;31 -->\n",
       "<g class=\"edge\" id=\"edge31\"><title>30-&gt;31</title>\n",
       "<path d=\"M3491.57,-126.234C3481.15,-112.727 3469.55,-97.6809 3459.09,-84.1108\" fill=\"none\" stroke=\"black\"/>\n",
       "<polygon fill=\"black\" points=\"3461.62,-81.661 3452.74,-75.8791 3456.07,-85.9354 3461.62,-81.661\" stroke=\"black\"/>\n",
       "</g>\n",
       "<!-- 32 -->\n",
       "<g class=\"node\" id=\"node33\"><title>32</title>\n",
       "<polygon fill=\"#f5f6bc\" points=\"3779,-75.5 3561,-75.5 3561,-7.5 3779,-7.5 3779,-75.5\" stroke=\"black\"/>\n",
       "<text font-family=\"Times New Roman,serif\" font-size=\"14.00\" text-anchor=\"middle\" x=\"3670\" y=\"-60.3\">gini = 0.697</text>\n",
       "<text font-family=\"Times New Roman,serif\" font-size=\"14.00\" text-anchor=\"middle\" x=\"3670\" y=\"-45.3\">samples = 67</text>\n",
       "<text font-family=\"Times New Roman,serif\" font-size=\"14.00\" text-anchor=\"middle\" x=\"3670\" y=\"-30.3\">value = [8, 32, 0, 0, 0, 14, 1, 0, 7, 5]</text>\n",
       "<text font-family=\"Times New Roman,serif\" font-size=\"14.00\" text-anchor=\"middle\" x=\"3670\" y=\"-15.3\">class = 2</text>\n",
       "</g>\n",
       "<!-- 30&#45;&gt;32 -->\n",
       "<g class=\"edge\" id=\"edge32\"><title>30-&gt;32</title>\n",
       "<path d=\"M3571.13,-126.234C3587.68,-112.217 3606.19,-96.5432 3622.68,-82.581\" fill=\"none\" stroke=\"black\"/>\n",
       "<polygon fill=\"black\" points=\"3625.22,-85.0128 3630.59,-75.8791 3620.7,-79.6712 3625.22,-85.0128\" stroke=\"black\"/>\n",
       "</g>\n",
       "<!-- 34 -->\n",
       "<g class=\"node\" id=\"node35\"><title>34</title>\n",
       "<polygon fill=\"#c9f4ae\" points=\"4164,-209.5 3912,-209.5 3912,-126.5 4164,-126.5 4164,-209.5\" stroke=\"black\"/>\n",
       "<text font-family=\"Times New Roman,serif\" font-size=\"14.00\" text-anchor=\"middle\" x=\"4038\" y=\"-194.3\">x2 &lt;= 9.5</text>\n",
       "<text font-family=\"Times New Roman,serif\" font-size=\"14.00\" text-anchor=\"middle\" x=\"4038\" y=\"-179.3\">gini = 0.672</text>\n",
       "<text font-family=\"Times New Roman,serif\" font-size=\"14.00\" text-anchor=\"middle\" x=\"4038\" y=\"-164.3\">samples = 463</text>\n",
       "<text font-family=\"Times New Roman,serif\" font-size=\"14.00\" text-anchor=\"middle\" x=\"4038\" y=\"-149.3\">value = [86, 0, 241, 31, 25, 0, 0, 0, 36, 44]</text>\n",
       "<text font-family=\"Times New Roman,serif\" font-size=\"14.00\" text-anchor=\"middle\" x=\"4038\" y=\"-134.3\">class = 3</text>\n",
       "</g>\n",
       "<!-- 33&#45;&gt;34 -->\n",
       "<g class=\"edge\" id=\"edge34\"><title>33-&gt;34</title>\n",
       "<path d=\"M4038,-260.319C4038,-247.521 4038,-233.227 4038,-219.817\" fill=\"none\" stroke=\"black\"/>\n",
       "<polygon fill=\"black\" points=\"4041.5,-219.774 4038,-209.774 4034.5,-219.774 4041.5,-219.774\" stroke=\"black\"/>\n",
       "</g>\n",
       "<!-- 37 -->\n",
       "<g class=\"node\" id=\"node38\"><title>37</title>\n",
       "<polygon fill=\"#fdfffd\" points=\"4583,-209.5 4311,-209.5 4311,-126.5 4583,-126.5 4583,-209.5\" stroke=\"black\"/>\n",
       "<text font-family=\"Times New Roman,serif\" font-size=\"14.00\" text-anchor=\"middle\" x=\"4447\" y=\"-194.3\">y1 &lt;= 36.5</text>\n",
       "<text font-family=\"Times New Roman,serif\" font-size=\"14.00\" text-anchor=\"middle\" x=\"4447\" y=\"-179.3\">gini = 0.855</text>\n",
       "<text font-family=\"Times New Roman,serif\" font-size=\"14.00\" text-anchor=\"middle\" x=\"4447\" y=\"-164.3\">samples = 701</text>\n",
       "<text font-family=\"Times New Roman,serif\" font-size=\"14.00\" text-anchor=\"middle\" x=\"4447\" y=\"-149.3\">value = [90, 73, 33, 143, 137, 49, 3, 0, 88, 85]</text>\n",
       "<text font-family=\"Times New Roman,serif\" font-size=\"14.00\" text-anchor=\"middle\" x=\"4447\" y=\"-134.3\">class = 4</text>\n",
       "</g>\n",
       "<!-- 33&#45;&gt;37 -->\n",
       "<g class=\"edge\" id=\"edge37\"><title>33-&gt;37</title>\n",
       "<path d=\"M4163.49,-260.499C4210.4,-245.361 4263.85,-228.109 4311.61,-212.697\" fill=\"none\" stroke=\"black\"/>\n",
       "<polygon fill=\"black\" points=\"4312.95,-215.941 4321.39,-209.538 4310.8,-209.279 4312.95,-215.941\" stroke=\"black\"/>\n",
       "</g>\n",
       "<!-- 35 -->\n",
       "<g class=\"node\" id=\"node36\"><title>35</title>\n",
       "<polygon fill=\"#f9d3da\" points=\"4022.5,-75.5 3797.5,-75.5 3797.5,-7.5 4022.5,-7.5 4022.5,-75.5\" stroke=\"black\"/>\n",
       "<text font-family=\"Times New Roman,serif\" font-size=\"14.00\" text-anchor=\"middle\" x=\"3910\" y=\"-60.3\">gini = 0.65</text>\n",
       "<text font-family=\"Times New Roman,serif\" font-size=\"14.00\" text-anchor=\"middle\" x=\"3910\" y=\"-45.3\">samples = 50</text>\n",
       "<text font-family=\"Times New Roman,serif\" font-size=\"14.00\" text-anchor=\"middle\" x=\"3910\" y=\"-30.3\">value = [14, 0, 0, 0, 0, 0, 0, 0, 14, 22]</text>\n",
       "<text font-family=\"Times New Roman,serif\" font-size=\"14.00\" text-anchor=\"middle\" x=\"3910\" y=\"-15.3\">class = 10</text>\n",
       "</g>\n",
       "<!-- 34&#45;&gt;35 -->\n",
       "<g class=\"edge\" id=\"edge35\"><title>34-&gt;35</title>\n",
       "<path d=\"M3996.09,-126.234C3981.81,-112.344 3965.86,-96.828 3951.6,-82.9622\" fill=\"none\" stroke=\"black\"/>\n",
       "<polygon fill=\"black\" points=\"3953.93,-80.3425 3944.32,-75.8791 3949.05,-85.3604 3953.93,-80.3425\" stroke=\"black\"/>\n",
       "</g>\n",
       "<!-- 36 -->\n",
       "<g class=\"node\" id=\"node37\"><title>36</title>\n",
       "<polygon fill=\"#bef29d\" points=\"4293,-75.5 4041,-75.5 4041,-7.5 4293,-7.5 4293,-75.5\" stroke=\"black\"/>\n",
       "<text font-family=\"Times New Roman,serif\" font-size=\"14.00\" text-anchor=\"middle\" x=\"4167\" y=\"-60.3\">gini = 0.614</text>\n",
       "<text font-family=\"Times New Roman,serif\" font-size=\"14.00\" text-anchor=\"middle\" x=\"4167\" y=\"-45.3\">samples = 413</text>\n",
       "<text font-family=\"Times New Roman,serif\" font-size=\"14.00\" text-anchor=\"middle\" x=\"4167\" y=\"-30.3\">value = [72, 0, 241, 31, 25, 0, 0, 0, 22, 22]</text>\n",
       "<text font-family=\"Times New Roman,serif\" font-size=\"14.00\" text-anchor=\"middle\" x=\"4167\" y=\"-15.3\">class = 3</text>\n",
       "</g>\n",
       "<!-- 34&#45;&gt;36 -->\n",
       "<g class=\"edge\" id=\"edge36\"><title>34-&gt;36</title>\n",
       "<path d=\"M4080.24,-126.234C4094.63,-112.344 4110.71,-96.828 4125.08,-82.9622\" fill=\"none\" stroke=\"black\"/>\n",
       "<polygon fill=\"black\" points=\"4127.65,-85.342 4132.41,-75.8791 4122.79,-80.3051 4127.65,-85.342\" stroke=\"black\"/>\n",
       "</g>\n",
       "<!-- 38 -->\n",
       "<g class=\"node\" id=\"node39\"><title>38</title>\n",
       "<polygon fill=\"#fafefb\" points=\"4583,-75.5 4311,-75.5 4311,-7.5 4583,-7.5 4583,-75.5\" stroke=\"black\"/>\n",
       "<text font-family=\"Times New Roman,serif\" font-size=\"14.00\" text-anchor=\"middle\" x=\"4447\" y=\"-60.3\">gini = 0.83</text>\n",
       "<text font-family=\"Times New Roman,serif\" font-size=\"14.00\" text-anchor=\"middle\" x=\"4447\" y=\"-45.3\">samples = 517</text>\n",
       "<text font-family=\"Times New Roman,serif\" font-size=\"14.00\" text-anchor=\"middle\" x=\"4447\" y=\"-30.3\">value = [66, 73, 10, 130, 119, 49, 3, 0, 33, 34]</text>\n",
       "<text font-family=\"Times New Roman,serif\" font-size=\"14.00\" text-anchor=\"middle\" x=\"4447\" y=\"-15.3\">class = 4</text>\n",
       "</g>\n",
       "<!-- 37&#45;&gt;38 -->\n",
       "<g class=\"edge\" id=\"edge38\"><title>37-&gt;38</title>\n",
       "<path d=\"M4447,-126.234C4447,-113.364 4447,-99.0969 4447,-86.0406\" fill=\"none\" stroke=\"black\"/>\n",
       "<polygon fill=\"black\" points=\"4450.5,-85.879 4447,-75.8791 4443.5,-85.8791 4450.5,-85.879\" stroke=\"black\"/>\n",
       "</g>\n",
       "<!-- 39 -->\n",
       "<g class=\"node\" id=\"node40\"><title>39</title>\n",
       "<polygon fill=\"#fef9fd\" points=\"4846.5,-75.5 4601.5,-75.5 4601.5,-7.5 4846.5,-7.5 4846.5,-75.5\" stroke=\"black\"/>\n",
       "<text font-family=\"Times New Roman,serif\" font-size=\"14.00\" text-anchor=\"middle\" x=\"4724\" y=\"-60.3\">gini = 0.787</text>\n",
       "<text font-family=\"Times New Roman,serif\" font-size=\"14.00\" text-anchor=\"middle\" x=\"4724\" y=\"-45.3\">samples = 184</text>\n",
       "<text font-family=\"Times New Roman,serif\" font-size=\"14.00\" text-anchor=\"middle\" x=\"4724\" y=\"-30.3\">value = [24, 0, 23, 13, 18, 0, 0, 0, 55, 51]</text>\n",
       "<text font-family=\"Times New Roman,serif\" font-size=\"14.00\" text-anchor=\"middle\" x=\"4724\" y=\"-15.3\">class = 9</text>\n",
       "</g>\n",
       "<!-- 37&#45;&gt;39 -->\n",
       "<g class=\"edge\" id=\"edge39\"><title>37-&gt;39</title>\n",
       "<path d=\"M4537.32,-126.406C4570.65,-111.423 4608.25,-94.5267 4640.91,-79.8442\" fill=\"none\" stroke=\"black\"/>\n",
       "<polygon fill=\"black\" points=\"4642.75,-82.8569 4650.43,-75.5649 4639.88,-76.4721 4642.75,-82.8569\" stroke=\"black\"/>\n",
       "</g>\n",
       "<!-- 41 -->\n",
       "<g class=\"node\" id=\"node42\"><title>41</title>\n",
       "<polygon fill=\"#fbe2e7\" points=\"5134.5,-343.5 4855.5,-343.5 4855.5,-260.5 5134.5,-260.5 5134.5,-343.5\" stroke=\"black\"/>\n",
       "<text font-family=\"Times New Roman,serif\" font-size=\"14.00\" text-anchor=\"middle\" x=\"4995\" y=\"-328.3\">y2 &lt;= 4.0</text>\n",
       "<text font-family=\"Times New Roman,serif\" font-size=\"14.00\" text-anchor=\"middle\" x=\"4995\" y=\"-313.3\">gini = 0.606</text>\n",
       "<text font-family=\"Times New Roman,serif\" font-size=\"14.00\" text-anchor=\"middle\" x=\"4995\" y=\"-298.3\">samples = 2540</text>\n",
       "<text font-family=\"Times New Roman,serif\" font-size=\"14.00\" text-anchor=\"middle\" x=\"4995\" y=\"-283.3\">value = [94, 7, 13, 62, 43, 85, 3, 0, 1006, 1227]</text>\n",
       "<text font-family=\"Times New Roman,serif\" font-size=\"14.00\" text-anchor=\"middle\" x=\"4995\" y=\"-268.3\">class = 10</text>\n",
       "</g>\n",
       "<!-- 40&#45;&gt;41 -->\n",
       "<g class=\"edge\" id=\"edge41\"><title>40-&gt;41</title>\n",
       "<path d=\"M4995,-394.319C4995,-381.521 4995,-367.227 4995,-353.817\" fill=\"none\" stroke=\"black\"/>\n",
       "<polygon fill=\"black\" points=\"4998.5,-353.774 4995,-343.774 4991.5,-353.774 4998.5,-353.774\" stroke=\"black\"/>\n",
       "</g>\n",
       "<!-- 46 -->\n",
       "<g class=\"node\" id=\"node47\"><title>46</title>\n",
       "<polygon fill=\"#fce8f8\" points=\"5795.5,-343.5 5516.5,-343.5 5516.5,-260.5 5795.5,-260.5 5795.5,-343.5\" stroke=\"black\"/>\n",
       "<text font-family=\"Times New Roman,serif\" font-size=\"14.00\" text-anchor=\"middle\" x=\"5656\" y=\"-328.3\">x1 &lt;= 9.5</text>\n",
       "<text font-family=\"Times New Roman,serif\" font-size=\"14.00\" text-anchor=\"middle\" x=\"5656\" y=\"-313.3\">gini = 0.811</text>\n",
       "<text font-family=\"Times New Roman,serif\" font-size=\"14.00\" text-anchor=\"middle\" x=\"5656\" y=\"-298.3\">samples = 778</text>\n",
       "<text font-family=\"Times New Roman,serif\" font-size=\"14.00\" text-anchor=\"middle\" x=\"5656\" y=\"-283.3\">value = [24, 28, 42, 85, 74, 118, 1, 0, 238, 168]</text>\n",
       "<text font-family=\"Times New Roman,serif\" font-size=\"14.00\" text-anchor=\"middle\" x=\"5656\" y=\"-268.3\">class = 9</text>\n",
       "</g>\n",
       "<!-- 40&#45;&gt;46 -->\n",
       "<g class=\"edge\" id=\"edge46\"><title>40-&gt;46</title>\n",
       "<path d=\"M5151.65,-403.718C5258.99,-382.281 5400.55,-354.013 5506.36,-332.883\" fill=\"none\" stroke=\"black\"/>\n",
       "<polygon fill=\"black\" points=\"5507.37,-336.251 5516.49,-330.861 5505.99,-329.387 5507.37,-336.251\" stroke=\"black\"/>\n",
       "</g>\n",
       "<!-- 42 -->\n",
       "<g class=\"node\" id=\"node43\"><title>42</title>\n",
       "<polygon fill=\"#e53958\" points=\"4969,-202 4757,-202 4757,-134 4969,-134 4969,-202\" stroke=\"black\"/>\n",
       "<text font-family=\"Times New Roman,serif\" font-size=\"14.00\" text-anchor=\"middle\" x=\"4863\" y=\"-186.8\">gini = 0.0</text>\n",
       "<text font-family=\"Times New Roman,serif\" font-size=\"14.00\" text-anchor=\"middle\" x=\"4863\" y=\"-171.8\">samples = 62</text>\n",
       "<text font-family=\"Times New Roman,serif\" font-size=\"14.00\" text-anchor=\"middle\" x=\"4863\" y=\"-156.8\">value = [0, 0, 0, 0, 0, 0, 0, 0, 0, 62]</text>\n",
       "<text font-family=\"Times New Roman,serif\" font-size=\"14.00\" text-anchor=\"middle\" x=\"4863\" y=\"-141.8\">class = 10</text>\n",
       "</g>\n",
       "<!-- 41&#45;&gt;42 -->\n",
       "<g class=\"edge\" id=\"edge42\"><title>41-&gt;42</title>\n",
       "<path d=\"M4954.32,-260.319C4938.16,-244.159 4919.61,-225.612 4903.47,-209.473\" fill=\"none\" stroke=\"black\"/>\n",
       "<polygon fill=\"black\" points=\"4905.79,-206.84 4896.24,-202.244 4900.84,-211.79 4905.79,-206.84\" stroke=\"black\"/>\n",
       "</g>\n",
       "<!-- 43 -->\n",
       "<g class=\"node\" id=\"node44\"><title>43</title>\n",
       "<polygon fill=\"#fceaed\" points=\"5266.5,-209.5 4987.5,-209.5 4987.5,-126.5 5266.5,-126.5 5266.5,-209.5\" stroke=\"black\"/>\n",
       "<text font-family=\"Times New Roman,serif\" font-size=\"14.00\" text-anchor=\"middle\" x=\"5127\" y=\"-194.3\">x1 &lt;= 0.5</text>\n",
       "<text font-family=\"Times New Roman,serif\" font-size=\"14.00\" text-anchor=\"middle\" x=\"5127\" y=\"-179.3\">gini = 0.611</text>\n",
       "<text font-family=\"Times New Roman,serif\" font-size=\"14.00\" text-anchor=\"middle\" x=\"5127\" y=\"-164.3\">samples = 2478</text>\n",
       "<text font-family=\"Times New Roman,serif\" font-size=\"14.00\" text-anchor=\"middle\" x=\"5127\" y=\"-149.3\">value = [94, 7, 13, 62, 43, 85, 3, 0, 1006, 1165]</text>\n",
       "<text font-family=\"Times New Roman,serif\" font-size=\"14.00\" text-anchor=\"middle\" x=\"5127\" y=\"-134.3\">class = 10</text>\n",
       "</g>\n",
       "<!-- 41&#45;&gt;43 -->\n",
       "<g class=\"edge\" id=\"edge43\"><title>41-&gt;43</title>\n",
       "<path d=\"M5035.68,-260.319C5049.36,-246.643 5064.74,-231.258 5078.93,-217.07\" fill=\"none\" stroke=\"black\"/>\n",
       "<polygon fill=\"black\" points=\"5081.63,-219.32 5086.23,-209.774 5076.68,-214.371 5081.63,-219.32\" stroke=\"black\"/>\n",
       "</g>\n",
       "<!-- 44 -->\n",
       "<g class=\"node\" id=\"node45\"><title>44</title>\n",
       "<polygon fill=\"#f7c3ec\" points=\"5123.5,-75.5 4864.5,-75.5 4864.5,-7.5 5123.5,-7.5 5123.5,-75.5\" stroke=\"black\"/>\n",
       "<text font-family=\"Times New Roman,serif\" font-size=\"14.00\" text-anchor=\"middle\" x=\"4994\" y=\"-60.3\">gini = 0.635</text>\n",
       "<text font-family=\"Times New Roman,serif\" font-size=\"14.00\" text-anchor=\"middle\" x=\"4994\" y=\"-45.3\">samples = 684</text>\n",
       "<text font-family=\"Times New Roman,serif\" font-size=\"14.00\" text-anchor=\"middle\" x=\"4994\" y=\"-30.3\">value = [19, 7, 4, 22, 16, 58, 0, 0, 351, 207]</text>\n",
       "<text font-family=\"Times New Roman,serif\" font-size=\"14.00\" text-anchor=\"middle\" x=\"4994\" y=\"-15.3\">class = 9</text>\n",
       "</g>\n",
       "<!-- 43&#45;&gt;44 -->\n",
       "<g class=\"edge\" id=\"edge44\"><title>43-&gt;44</title>\n",
       "<path d=\"M5083.45,-126.234C5068.61,-112.344 5052.04,-96.828 5037.22,-82.9622\" fill=\"none\" stroke=\"black\"/>\n",
       "<polygon fill=\"black\" points=\"5039.35,-80.1578 5029.66,-75.8791 5034.57,-85.2682 5039.35,-80.1578\" stroke=\"black\"/>\n",
       "</g>\n",
       "<!-- 45 -->\n",
       "<g class=\"node\" id=\"node46\"><title>45</title>\n",
       "<polygon fill=\"#f8cad3\" points=\"5400.5,-75.5 5141.5,-75.5 5141.5,-7.5 5400.5,-7.5 5400.5,-75.5\" stroke=\"black\"/>\n",
       "<text font-family=\"Times New Roman,serif\" font-size=\"14.00\" text-anchor=\"middle\" x=\"5271\" y=\"-60.3\">gini = 0.579</text>\n",
       "<text font-family=\"Times New Roman,serif\" font-size=\"14.00\" text-anchor=\"middle\" x=\"5271\" y=\"-45.3\">samples = 1794</text>\n",
       "<text font-family=\"Times New Roman,serif\" font-size=\"14.00\" text-anchor=\"middle\" x=\"5271\" y=\"-30.3\">value = [75, 0, 9, 40, 27, 27, 3, 0, 655, 958]</text>\n",
       "<text font-family=\"Times New Roman,serif\" font-size=\"14.00\" text-anchor=\"middle\" x=\"5271\" y=\"-15.3\">class = 10</text>\n",
       "</g>\n",
       "<!-- 43&#45;&gt;45 -->\n",
       "<g class=\"edge\" id=\"edge45\"><title>43-&gt;45</title>\n",
       "<path d=\"M5174.15,-126.234C5190.36,-112.217 5208.49,-96.5432 5224.64,-82.581\" fill=\"none\" stroke=\"black\"/>\n",
       "<polygon fill=\"black\" points=\"5227.12,-85.067 5232.39,-75.8791 5222.54,-79.7717 5227.12,-85.067\" stroke=\"black\"/>\n",
       "</g>\n",
       "<!-- 47 -->\n",
       "<g class=\"node\" id=\"node48\"><title>47</title>\n",
       "<polygon fill=\"#f8fef9\" points=\"5785.5,-209.5 5526.5,-209.5 5526.5,-126.5 5785.5,-126.5 5785.5,-209.5\" stroke=\"black\"/>\n",
       "<text font-family=\"Times New Roman,serif\" font-size=\"14.00\" text-anchor=\"middle\" x=\"5656\" y=\"-194.3\">y1 &lt;= 49.5</text>\n",
       "<text font-family=\"Times New Roman,serif\" font-size=\"14.00\" text-anchor=\"middle\" x=\"5656\" y=\"-179.3\">gini = 0.837</text>\n",
       "<text font-family=\"Times New Roman,serif\" font-size=\"14.00\" text-anchor=\"middle\" x=\"5656\" y=\"-164.3\">samples = 390</text>\n",
       "<text font-family=\"Times New Roman,serif\" font-size=\"14.00\" text-anchor=\"middle\" x=\"5656\" y=\"-149.3\">value = [20, 15, 17, 85, 74, 74, 0, 0, 62, 43]</text>\n",
       "<text font-family=\"Times New Roman,serif\" font-size=\"14.00\" text-anchor=\"middle\" x=\"5656\" y=\"-134.3\">class = 4</text>\n",
       "</g>\n",
       "<!-- 46&#45;&gt;47 -->\n",
       "<g class=\"edge\" id=\"edge47\"><title>46-&gt;47</title>\n",
       "<path d=\"M5656,-260.319C5656,-247.521 5656,-233.227 5656,-219.817\" fill=\"none\" stroke=\"black\"/>\n",
       "<polygon fill=\"black\" points=\"5659.5,-219.774 5656,-209.774 5652.5,-219.774 5659.5,-219.774\" stroke=\"black\"/>\n",
       "</g>\n",
       "<!-- 50 -->\n",
       "<g class=\"node\" id=\"node51\"><title>50</title>\n",
       "<polygon fill=\"#fad9f3\" points=\"6164,-209.5 5912,-209.5 5912,-126.5 6164,-126.5 6164,-209.5\" stroke=\"black\"/>\n",
       "<text font-family=\"Times New Roman,serif\" font-size=\"14.00\" text-anchor=\"middle\" x=\"6038\" y=\"-194.3\">y1 &lt;= 30.5</text>\n",
       "<text font-family=\"Times New Roman,serif\" font-size=\"14.00\" text-anchor=\"middle\" x=\"6038\" y=\"-179.3\">gini = 0.672</text>\n",
       "<text font-family=\"Times New Roman,serif\" font-size=\"14.00\" text-anchor=\"middle\" x=\"6038\" y=\"-164.3\">samples = 388</text>\n",
       "<text font-family=\"Times New Roman,serif\" font-size=\"14.00\" text-anchor=\"middle\" x=\"6038\" y=\"-149.3\">value = [4, 13, 25, 0, 0, 44, 1, 0, 176, 125]</text>\n",
       "<text font-family=\"Times New Roman,serif\" font-size=\"14.00\" text-anchor=\"middle\" x=\"6038\" y=\"-134.3\">class = 9</text>\n",
       "</g>\n",
       "<!-- 46&#45;&gt;50 -->\n",
       "<g class=\"edge\" id=\"edge50\"><title>46-&gt;50</title>\n",
       "<path d=\"M5773.21,-260.499C5816.83,-245.425 5866.52,-228.253 5910.99,-212.89\" fill=\"none\" stroke=\"black\"/>\n",
       "<polygon fill=\"black\" points=\"5912.38,-216.113 5920.68,-209.538 5910.09,-209.496 5912.38,-216.113\" stroke=\"black\"/>\n",
       "</g>\n",
       "<!-- 48 -->\n",
       "<g class=\"node\" id=\"node49\"><title>48</title>\n",
       "<polygon fill=\"#f6fef8\" points=\"5677.5,-75.5 5418.5,-75.5 5418.5,-7.5 5677.5,-7.5 5677.5,-75.5\" stroke=\"black\"/>\n",
       "<text font-family=\"Times New Roman,serif\" font-size=\"14.00\" text-anchor=\"middle\" x=\"5548\" y=\"-60.3\">gini = 0.812</text>\n",
       "<text font-family=\"Times New Roman,serif\" font-size=\"14.00\" text-anchor=\"middle\" x=\"5548\" y=\"-45.3\">samples = 326</text>\n",
       "<text font-family=\"Times New Roman,serif\" font-size=\"14.00\" text-anchor=\"middle\" x=\"5548\" y=\"-30.3\">value = [19, 15, 17, 85, 74, 74, 0, 0, 21, 21]</text>\n",
       "<text font-family=\"Times New Roman,serif\" font-size=\"14.00\" text-anchor=\"middle\" x=\"5548\" y=\"-15.3\">class = 4</text>\n",
       "</g>\n",
       "<!-- 47&#45;&gt;48 -->\n",
       "<g class=\"edge\" id=\"edge48\"><title>47-&gt;48</title>\n",
       "<path d=\"M5620.64,-126.234C5608.81,-112.599 5595.62,-97.3969 5583.76,-83.7271\" fill=\"none\" stroke=\"black\"/>\n",
       "<polygon fill=\"black\" points=\"5586.15,-81.1395 5576.96,-75.8791 5580.86,-85.7265 5586.15,-81.1395\" stroke=\"black\"/>\n",
       "</g>\n",
       "<!-- 49 -->\n",
       "<g class=\"node\" id=\"node50\"><title>49</title>\n",
       "<polygon fill=\"#f3a5e3\" points=\"5914,-75.5 5696,-75.5 5696,-7.5 5914,-7.5 5914,-75.5\" stroke=\"black\"/>\n",
       "<text font-family=\"Times New Roman,serif\" font-size=\"14.00\" text-anchor=\"middle\" x=\"5805\" y=\"-60.3\">gini = 0.471</text>\n",
       "<text font-family=\"Times New Roman,serif\" font-size=\"14.00\" text-anchor=\"middle\" x=\"5805\" y=\"-45.3\">samples = 64</text>\n",
       "<text font-family=\"Times New Roman,serif\" font-size=\"14.00\" text-anchor=\"middle\" x=\"5805\" y=\"-30.3\">value = [1, 0, 0, 0, 0, 0, 0, 0, 41, 22]</text>\n",
       "<text font-family=\"Times New Roman,serif\" font-size=\"14.00\" text-anchor=\"middle\" x=\"5805\" y=\"-15.3\">class = 9</text>\n",
       "</g>\n",
       "<!-- 47&#45;&gt;49 -->\n",
       "<g class=\"edge\" id=\"edge49\"><title>47-&gt;49</title>\n",
       "<path d=\"M5704.79,-126.234C5721.56,-112.217 5740.32,-96.5432 5757.03,-82.581\" fill=\"none\" stroke=\"black\"/>\n",
       "<polygon fill=\"black\" points=\"5759.62,-84.9769 5765.05,-75.8791 5755.13,-79.6052 5759.62,-84.9769\" stroke=\"black\"/>\n",
       "</g>\n",
       "<!-- 51 -->\n",
       "<g class=\"node\" id=\"node52\"><title>51</title>\n",
       "<polygon fill=\"#ccf5b3\" points=\"6144,-75.5 5932,-75.5 5932,-7.5 6144,-7.5 6144,-75.5\" stroke=\"black\"/>\n",
       "<text font-family=\"Times New Roman,serif\" font-size=\"14.00\" text-anchor=\"middle\" x=\"6038\" y=\"-60.3\">gini = 0.708</text>\n",
       "<text font-family=\"Times New Roman,serif\" font-size=\"14.00\" text-anchor=\"middle\" x=\"6038\" y=\"-45.3\">samples = 46</text>\n",
       "<text font-family=\"Times New Roman,serif\" font-size=\"14.00\" text-anchor=\"middle\" x=\"6038\" y=\"-30.3\">value = [1, 7, 22, 0, 0, 7, 1, 0, 3, 5]</text>\n",
       "<text font-family=\"Times New Roman,serif\" font-size=\"14.00\" text-anchor=\"middle\" x=\"6038\" y=\"-15.3\">class = 3</text>\n",
       "</g>\n",
       "<!-- 50&#45;&gt;51 -->\n",
       "<g class=\"edge\" id=\"edge51\"><title>50-&gt;51</title>\n",
       "<path d=\"M6038,-126.234C6038,-113.364 6038,-99.0969 6038,-86.0406\" fill=\"none\" stroke=\"black\"/>\n",
       "<polygon fill=\"black\" points=\"6041.5,-85.879 6038,-75.8791 6034.5,-85.8791 6041.5,-85.879\" stroke=\"black\"/>\n",
       "</g>\n",
       "<!-- 52 -->\n",
       "<g class=\"node\" id=\"node53\"><title>52</title>\n",
       "<polygon fill=\"#f9d0f0\" points=\"6401.5,-75.5 6162.5,-75.5 6162.5,-7.5 6401.5,-7.5 6401.5,-75.5\" stroke=\"black\"/>\n",
       "<text font-family=\"Times New Roman,serif\" font-size=\"14.00\" text-anchor=\"middle\" x=\"6282\" y=\"-60.3\">gini = 0.609</text>\n",
       "<text font-family=\"Times New Roman,serif\" font-size=\"14.00\" text-anchor=\"middle\" x=\"6282\" y=\"-45.3\">samples = 342</text>\n",
       "<text font-family=\"Times New Roman,serif\" font-size=\"14.00\" text-anchor=\"middle\" x=\"6282\" y=\"-30.3\">value = [3, 6, 3, 0, 0, 37, 0, 0, 173, 120]</text>\n",
       "<text font-family=\"Times New Roman,serif\" font-size=\"14.00\" text-anchor=\"middle\" x=\"6282\" y=\"-15.3\">class = 9</text>\n",
       "</g>\n",
       "<!-- 50&#45;&gt;52 -->\n",
       "<g class=\"edge\" id=\"edge52\"><title>50-&gt;52</title>\n",
       "<path d=\"M6117.56,-126.406C6146.67,-111.551 6179.47,-94.8166 6208.07,-80.2228\" fill=\"none\" stroke=\"black\"/>\n",
       "<polygon fill=\"black\" points=\"6209.88,-83.2276 6217.2,-75.5649 6206.7,-76.9923 6209.88,-83.2276\" stroke=\"black\"/>\n",
       "</g>\n",
       "</g>\n",
       "</svg>"
      ],
      "text/plain": [
       "<IPython.core.display.SVG object>"
      ]
     },
     "metadata": {},
     "output_type": "display_data"
    },
    {
     "data": {
      "image/png": "[encoded data removed]",
      "text/plain": [
       "<Figure size 432x288 with 1 Axes>"
      ]
     },
     "metadata": {
      "needs_background": "light"
     },
     "output_type": "display_data"
    }
   ],
   "source": [
    "feature_cols = ['x1', 'y1', 'x2', 'y2', 'size', 'diag']\n",
    "X = test[feature_cols]\n",
    "y = test[[\"class\"]]\n",
    "\n",
    "treeclf = DecisionTreeClassifier(max_depth=5, random_state=3)\n",
    "treeclf.fit(X, y)\n",
    "\n",
    "graph = Source(tree.export_graphviz(treeclf, out_file=None,\n",
    "                                    feature_names=feature_cols,\n",
    "#                                     class_names=['0', '1'], filled = True))\n",
    "                                    class_names=['1', '2', '3', '4', '5', '6', '7', '8', '9', '10'], filled = True))\n",
    "svg = SVG(graph.pipe(format='svg'))\n",
    "display(svg)\n",
    "\n",
    "plt.figure()\n",
    "plot_tree(treeclf, filled=True)\n",
    "plt.show()"
   ]
  },
  {
   "cell_type": "code",
   "execution_count": 39,
   "metadata": {
    "scrolled": true
   },
   "outputs": [
    {
     "data": {
      "text/plain": [
       "'predicted range: [1.00,10.00]'"
      ]
     },
     "metadata": {},
     "output_type": "display_data"
    },
    {
     "data": {
      "text/plain": [
       "'precision = [0.30319354 0.32770941 0.71971253 0.54201293 0.27985075 0.718509\\n 0.48617306 0.24513619 0.56407366 0.6352381 ]'"
      ]
     },
     "metadata": {},
     "output_type": "display_data"
    },
    {
     "data": {
      "text/plain": [
       "'recall = [0.25989446 0.82591296 0.83818254 0.2348     0.0375     0.55658812\\n 0.218      0.714      0.50217464 0.57122466]'"
      ]
     },
     "metadata": {},
     "output_type": "display_data"
    },
    {
     "data": {
      "text/plain": [
       "'f-score = [0.27987924 0.46923405 0.77444301 0.32765839 0.06613757 0.62726763\\n 0.30102182 0.36496848 0.53132743 0.60153314]'"
      ]
     },
     "metadata": {},
     "output_type": "display_data"
    }
   ],
   "source": [
    "testSet = test[feature_cols]\n",
    "y_pred = treeclf.predict(testSet)\n",
    "\n",
    "display('predicted range: [{0:.2f},{1:.2f}]'.format(min(y_pred), max(y_pred)))\n",
    "\n",
    "p,r,f,s = precision_recall_fscore_support(y, y_pred)\n",
    "display('precision = {}'.format(p))\n",
    "display('recall = {}'.format(r))\n",
    "display('f-score = {}'.format(f))"
   ]
  },
  {
   "cell_type": "code",
   "execution_count": 33,
   "metadata": {},
   "outputs": [
    {
     "name": "stdout",
     "output_type": "stream",
     "text": [
      "5\n"
     ]
    },
    {
     "data": {
      "text/plain": [
       "'predicted range: [1.00,10.00]'"
      ]
     },
     "metadata": {},
     "output_type": "display_data"
    },
    {
     "name": "stderr",
     "output_type": "stream",
     "text": [
      "c:\\users\\telepatheticman\\appdata\\local\\programs\\python\\python37\\lib\\site-packages\\sklearn\\metrics\\_classification.py:1272: UndefinedMetricWarning: Precision and F-score are ill-defined and being set to 0.0 in labels with no predicted samples. Use `zero_division` parameter to control this behavior.\n",
      "  _warn_prf(average, modifier, msg_start, len(result))\n"
     ]
    },
    {
     "data": {
      "text/plain": [
       "'precision = [0.16730682 0.47761194 0.49189985 0.35861561 0.         0.43677649\\n 0.         0.5988024  0.41232917 0.60218861]'"
      ]
     },
     "metadata": {},
     "output_type": "display_data"
    },
    {
     "data": {
      "text/plain": [
       "'recall = [0.48845646 0.016008   0.66560383 0.1948     0.         0.65117823\\n 0.         0.33333333 0.47440616 0.53411362]'"
      ]
     },
     "metadata": {},
     "output_type": "display_data"
    },
    {
     "data": {
      "text/plain": [
       "'f-score = [0.24924268 0.03097773 0.56571816 0.25246242 0.         0.52285143\\n 0.         0.42826552 0.44119477 0.56611195]'"
      ]
     },
     "metadata": {},
     "output_type": "display_data"
    },
    {
     "data": {
      "text/html": [
       "<div>\n",
       "<style scoped>\n",
       "    .dataframe tbody tr th:only-of-type {\n",
       "        vertical-align: middle;\n",
       "    }\n",
       "\n",
       "    .dataframe tbody tr th {\n",
       "        vertical-align: top;\n",
       "    }\n",
       "\n",
       "    .dataframe thead th {\n",
       "        text-align: right;\n",
       "    }\n",
       "</style>\n",
       "<table border=\"1\" class=\"dataframe\">\n",
       "  <thead>\n",
       "    <tr style=\"text-align: right;\">\n",
       "      <th></th>\n",
       "      <th>feature</th>\n",
       "      <th>importance</th>\n",
       "    </tr>\n",
       "  </thead>\n",
       "  <tbody>\n",
       "    <tr>\n",
       "      <th>0</th>\n",
       "      <td>x1</td>\n",
       "      <td>0.139246</td>\n",
       "    </tr>\n",
       "    <tr>\n",
       "      <th>1</th>\n",
       "      <td>y1</td>\n",
       "      <td>0.399764</td>\n",
       "    </tr>\n",
       "    <tr>\n",
       "      <th>2</th>\n",
       "      <td>x2</td>\n",
       "      <td>0.144993</td>\n",
       "    </tr>\n",
       "    <tr>\n",
       "      <th>3</th>\n",
       "      <td>y2</td>\n",
       "      <td>0.196310</td>\n",
       "    </tr>\n",
       "    <tr>\n",
       "      <th>4</th>\n",
       "      <td>size</td>\n",
       "      <td>0.092485</td>\n",
       "    </tr>\n",
       "    <tr>\n",
       "      <th>5</th>\n",
       "      <td>diag</td>\n",
       "      <td>0.027202</td>\n",
       "    </tr>\n",
       "  </tbody>\n",
       "</table>\n",
       "</div>"
      ],
      "text/plain": [
       "  feature  importance\n",
       "0      x1    0.139246\n",
       "1      y1    0.399764\n",
       "2      x2    0.144993\n",
       "3      y2    0.196310\n",
       "4    size    0.092485\n",
       "5    diag    0.027202"
      ]
     },
     "metadata": {},
     "output_type": "display_data"
    },
    {
     "name": "stdout",
     "output_type": "stream",
     "text": [
      "6\n"
     ]
    },
    {
     "data": {
      "text/plain": [
       "'predicted range: [1.00,10.00]'"
      ]
     },
     "metadata": {},
     "output_type": "display_data"
    },
    {
     "data": {
      "text/plain": [
       "'precision = [0.25270458 0.51280524 0.71829446 0.21641985 0.32653061 0.6389016\\n 0.49305556 0.69371197 0.48937481 0.60627423]'"
      ]
     },
     "metadata": {},
     "output_type": "display_data"
    },
    {
     "data": {
      "text/plain": [
       "'recall = [0.30046174 0.43071536 0.78557194 0.6664     0.008      0.46332559\\n 0.1988     0.228      0.53161593 0.49100771]'"
      ]
     },
     "metadata": {},
     "output_type": "display_data"
    },
    {
     "data": {
      "text/plain": [
       "'f-score = [0.27452162 0.46818923 0.75042833 0.32673073 0.01561737 0.53712967\\n 0.28335234 0.3432012  0.50962155 0.54258675]'"
      ]
     },
     "metadata": {},
     "output_type": "display_data"
    },
    {
     "data": {
      "text/html": [
       "<div>\n",
       "<style scoped>\n",
       "    .dataframe tbody tr th:only-of-type {\n",
       "        vertical-align: middle;\n",
       "    }\n",
       "\n",
       "    .dataframe tbody tr th {\n",
       "        vertical-align: top;\n",
       "    }\n",
       "\n",
       "    .dataframe thead th {\n",
       "        text-align: right;\n",
       "    }\n",
       "</style>\n",
       "<table border=\"1\" class=\"dataframe\">\n",
       "  <thead>\n",
       "    <tr style=\"text-align: right;\">\n",
       "      <th></th>\n",
       "      <th>feature</th>\n",
       "      <th>importance</th>\n",
       "    </tr>\n",
       "  </thead>\n",
       "  <tbody>\n",
       "    <tr>\n",
       "      <th>0</th>\n",
       "      <td>x1</td>\n",
       "      <td>0.108140</td>\n",
       "    </tr>\n",
       "    <tr>\n",
       "      <th>1</th>\n",
       "      <td>y1</td>\n",
       "      <td>0.317887</td>\n",
       "    </tr>\n",
       "    <tr>\n",
       "      <th>2</th>\n",
       "      <td>x2</td>\n",
       "      <td>0.136245</td>\n",
       "    </tr>\n",
       "    <tr>\n",
       "      <th>3</th>\n",
       "      <td>y2</td>\n",
       "      <td>0.297742</td>\n",
       "    </tr>\n",
       "    <tr>\n",
       "      <th>4</th>\n",
       "      <td>size</td>\n",
       "      <td>0.072684</td>\n",
       "    </tr>\n",
       "    <tr>\n",
       "      <th>5</th>\n",
       "      <td>diag</td>\n",
       "      <td>0.067301</td>\n",
       "    </tr>\n",
       "  </tbody>\n",
       "</table>\n",
       "</div>"
      ],
      "text/plain": [
       "  feature  importance\n",
       "0      x1    0.108140\n",
       "1      y1    0.317887\n",
       "2      x2    0.136245\n",
       "3      y2    0.297742\n",
       "4    size    0.072684\n",
       "5    diag    0.067301"
      ]
     },
     "metadata": {},
     "output_type": "display_data"
    },
    {
     "name": "stdout",
     "output_type": "stream",
     "text": [
      "7\n"
     ]
    },
    {
     "data": {
      "text/plain": [
       "'predicted range: [1.00,10.00]'"
      ]
     },
     "metadata": {},
     "output_type": "display_data"
    },
    {
     "data": {
      "text/plain": [
       "'precision = [0.30319354 0.32770941 0.71971253 0.54201293 0.27985075 0.718509\\n 0.48617306 0.24513619 0.56407366 0.6352381 ]'"
      ]
     },
     "metadata": {},
     "output_type": "display_data"
    },
    {
     "data": {
      "text/plain": [
       "'recall = [0.25989446 0.82591296 0.83818254 0.2348     0.0375     0.55658812\\n 0.218      0.714      0.50217464 0.57122466]'"
      ]
     },
     "metadata": {},
     "output_type": "display_data"
    },
    {
     "data": {
      "text/plain": [
       "'f-score = [0.27987924 0.46923405 0.77444301 0.32765839 0.06613757 0.62726763\\n 0.30102182 0.36496848 0.53132743 0.60153314]'"
      ]
     },
     "metadata": {},
     "output_type": "display_data"
    },
    {
     "data": {
      "text/html": [
       "<div>\n",
       "<style scoped>\n",
       "    .dataframe tbody tr th:only-of-type {\n",
       "        vertical-align: middle;\n",
       "    }\n",
       "\n",
       "    .dataframe tbody tr th {\n",
       "        vertical-align: top;\n",
       "    }\n",
       "\n",
       "    .dataframe thead th {\n",
       "        text-align: right;\n",
       "    }\n",
       "</style>\n",
       "<table border=\"1\" class=\"dataframe\">\n",
       "  <thead>\n",
       "    <tr style=\"text-align: right;\">\n",
       "      <th></th>\n",
       "      <th>feature</th>\n",
       "      <th>importance</th>\n",
       "    </tr>\n",
       "  </thead>\n",
       "  <tbody>\n",
       "    <tr>\n",
       "      <th>0</th>\n",
       "      <td>x1</td>\n",
       "      <td>0.115323</td>\n",
       "    </tr>\n",
       "    <tr>\n",
       "      <th>1</th>\n",
       "      <td>y1</td>\n",
       "      <td>0.261897</td>\n",
       "    </tr>\n",
       "    <tr>\n",
       "      <th>2</th>\n",
       "      <td>x2</td>\n",
       "      <td>0.174935</td>\n",
       "    </tr>\n",
       "    <tr>\n",
       "      <th>3</th>\n",
       "      <td>y2</td>\n",
       "      <td>0.297758</td>\n",
       "    </tr>\n",
       "    <tr>\n",
       "      <th>4</th>\n",
       "      <td>size</td>\n",
       "      <td>0.069859</td>\n",
       "    </tr>\n",
       "    <tr>\n",
       "      <th>5</th>\n",
       "      <td>diag</td>\n",
       "      <td>0.080229</td>\n",
       "    </tr>\n",
       "  </tbody>\n",
       "</table>\n",
       "</div>"
      ],
      "text/plain": [
       "  feature  importance\n",
       "0      x1    0.115323\n",
       "1      y1    0.261897\n",
       "2      x2    0.174935\n",
       "3      y2    0.297758\n",
       "4    size    0.069859\n",
       "5    diag    0.080229"
      ]
     },
     "metadata": {},
     "output_type": "display_data"
    },
    {
     "name": "stdout",
     "output_type": "stream",
     "text": [
      "8\n"
     ]
    },
    {
     "data": {
      "text/plain": [
       "'predicted range: [1.00,10.00]'"
      ]
     },
     "metadata": {},
     "output_type": "display_data"
    },
    {
     "data": {
      "text/plain": [
       "'precision = [0.36787565 0.4273993  0.80440274 0.26738533 0.32788945 0.72715789\\n 0.36162732 0.68730159 0.59335664 0.66852276]'"
      ]
     },
     "metadata": {},
     "output_type": "display_data"
    },
    {
     "data": {
      "text/plain": [
       "'recall = [0.28100264 0.85992996 0.88840175 0.506      0.1305     0.57318287\\n 0.288      0.28866667 0.56774841 0.58264345]'"
      ]
     },
     "metadata": {},
     "output_type": "display_data"
    },
    {
     "data": {
      "text/plain": [
       "'f-score = [0.31862378 0.57100149 0.84431818 0.34988245 0.18669528 0.64105419\\n 0.32064128 0.40657277 0.58027013 0.62263575]'"
      ]
     },
     "metadata": {},
     "output_type": "display_data"
    },
    {
     "data": {
      "text/html": [
       "<div>\n",
       "<style scoped>\n",
       "    .dataframe tbody tr th:only-of-type {\n",
       "        vertical-align: middle;\n",
       "    }\n",
       "\n",
       "    .dataframe tbody tr th {\n",
       "        vertical-align: top;\n",
       "    }\n",
       "\n",
       "    .dataframe thead th {\n",
       "        text-align: right;\n",
       "    }\n",
       "</style>\n",
       "<table border=\"1\" class=\"dataframe\">\n",
       "  <thead>\n",
       "    <tr style=\"text-align: right;\">\n",
       "      <th></th>\n",
       "      <th>feature</th>\n",
       "      <th>importance</th>\n",
       "    </tr>\n",
       "  </thead>\n",
       "  <tbody>\n",
       "    <tr>\n",
       "      <th>0</th>\n",
       "      <td>x1</td>\n",
       "      <td>0.114411</td>\n",
       "    </tr>\n",
       "    <tr>\n",
       "      <th>1</th>\n",
       "      <td>y1</td>\n",
       "      <td>0.302318</td>\n",
       "    </tr>\n",
       "    <tr>\n",
       "      <th>2</th>\n",
       "      <td>x2</td>\n",
       "      <td>0.145023</td>\n",
       "    </tr>\n",
       "    <tr>\n",
       "      <th>3</th>\n",
       "      <td>y2</td>\n",
       "      <td>0.277342</td>\n",
       "    </tr>\n",
       "    <tr>\n",
       "      <th>4</th>\n",
       "      <td>size</td>\n",
       "      <td>0.071475</td>\n",
       "    </tr>\n",
       "    <tr>\n",
       "      <th>5</th>\n",
       "      <td>diag</td>\n",
       "      <td>0.089431</td>\n",
       "    </tr>\n",
       "  </tbody>\n",
       "</table>\n",
       "</div>"
      ],
      "text/plain": [
       "  feature  importance\n",
       "0      x1    0.114411\n",
       "1      y1    0.302318\n",
       "2      x2    0.145023\n",
       "3      y2    0.277342\n",
       "4    size    0.071475\n",
       "5    diag    0.089431"
      ]
     },
     "metadata": {},
     "output_type": "display_data"
    },
    {
     "name": "stdout",
     "output_type": "stream",
     "text": [
      "9\n"
     ]
    },
    {
     "data": {
      "text/plain": [
       "'predicted range: [1.00,10.00]'"
      ]
     },
     "metadata": {},
     "output_type": "display_data"
    },
    {
     "data": {
      "text/plain": [
       "'precision = [0.55657492 0.51829653 0.856829   0.42538023 0.36797455 0.73191318\\n 0.23876857 0.56160164 0.63501239 0.67745632]'"
      ]
     },
     "metadata": {},
     "output_type": "display_data"
    },
    {
     "data": {
      "text/plain": [
       "'recall = [0.30013193 0.82191096 0.93264249 0.358      0.1735     0.60438102\\n 0.5336     0.36466667 0.51455336 0.6751356 ]'"
      ]
     },
     "metadata": {},
     "output_type": "display_data"
    },
    {
     "data": {
      "text/plain": [
       "'f-score = [0.38997214 0.6357129  0.89312977 0.38879235 0.2358138  0.66206144\\n 0.3299122  0.44219887 0.56847163 0.67629397]'"
      ]
     },
     "metadata": {},
     "output_type": "display_data"
    },
    {
     "data": {
      "text/html": [
       "<div>\n",
       "<style scoped>\n",
       "    .dataframe tbody tr th:only-of-type {\n",
       "        vertical-align: middle;\n",
       "    }\n",
       "\n",
       "    .dataframe tbody tr th {\n",
       "        vertical-align: top;\n",
       "    }\n",
       "\n",
       "    .dataframe thead th {\n",
       "        text-align: right;\n",
       "    }\n",
       "</style>\n",
       "<table border=\"1\" class=\"dataframe\">\n",
       "  <thead>\n",
       "    <tr style=\"text-align: right;\">\n",
       "      <th></th>\n",
       "      <th>feature</th>\n",
       "      <th>importance</th>\n",
       "    </tr>\n",
       "  </thead>\n",
       "  <tbody>\n",
       "    <tr>\n",
       "      <th>0</th>\n",
       "      <td>x1</td>\n",
       "      <td>0.114088</td>\n",
       "    </tr>\n",
       "    <tr>\n",
       "      <th>1</th>\n",
       "      <td>y1</td>\n",
       "      <td>0.295524</td>\n",
       "    </tr>\n",
       "    <tr>\n",
       "      <th>2</th>\n",
       "      <td>x2</td>\n",
       "      <td>0.138111</td>\n",
       "    </tr>\n",
       "    <tr>\n",
       "      <th>3</th>\n",
       "      <td>y2</td>\n",
       "      <td>0.269322</td>\n",
       "    </tr>\n",
       "    <tr>\n",
       "      <th>4</th>\n",
       "      <td>size</td>\n",
       "      <td>0.076957</td>\n",
       "    </tr>\n",
       "    <tr>\n",
       "      <th>5</th>\n",
       "      <td>diag</td>\n",
       "      <td>0.105998</td>\n",
       "    </tr>\n",
       "  </tbody>\n",
       "</table>\n",
       "</div>"
      ],
      "text/plain": [
       "  feature  importance\n",
       "0      x1    0.114088\n",
       "1      y1    0.295524\n",
       "2      x2    0.138111\n",
       "3      y2    0.269322\n",
       "4    size    0.076957\n",
       "5    diag    0.105998"
      ]
     },
     "metadata": {},
     "output_type": "display_data"
    },
    {
     "name": "stdout",
     "output_type": "stream",
     "text": [
      "10\n"
     ]
    },
    {
     "data": {
      "text/plain": [
       "'predicted range: [1.00,10.00]'"
      ]
     },
     "metadata": {},
     "output_type": "display_data"
    },
    {
     "data": {
      "text/plain": [
       "'precision = [0.63678161 0.5729308  0.9068323  0.43880597 0.39854318 0.72687386\\n 0.27461643 0.42758186 0.67134093 0.68134573]'"
      ]
     },
     "metadata": {},
     "output_type": "display_data"
    },
    {
     "data": {
      "text/plain": [
       "'recall = [0.27407652 0.84492246 0.93104823 0.4116     0.1915     0.6598075\\n 0.5656     0.45266667 0.512546   0.71110477]'"
      ]
     },
     "metadata": {},
     "output_type": "display_data"
    },
    {
     "data": {
      "text/plain": [
       "'f-score = [0.3832142  0.68283808 0.91878073 0.4247678  0.25869639 0.69171886\\n 0.36972153 0.43976684 0.58129387 0.69590725]'"
      ]
     },
     "metadata": {},
     "output_type": "display_data"
    },
    {
     "data": {
      "text/html": [
       "<div>\n",
       "<style scoped>\n",
       "    .dataframe tbody tr th:only-of-type {\n",
       "        vertical-align: middle;\n",
       "    }\n",
       "\n",
       "    .dataframe tbody tr th {\n",
       "        vertical-align: top;\n",
       "    }\n",
       "\n",
       "    .dataframe thead th {\n",
       "        text-align: right;\n",
       "    }\n",
       "</style>\n",
       "<table border=\"1\" class=\"dataframe\">\n",
       "  <thead>\n",
       "    <tr style=\"text-align: right;\">\n",
       "      <th></th>\n",
       "      <th>feature</th>\n",
       "      <th>importance</th>\n",
       "    </tr>\n",
       "  </thead>\n",
       "  <tbody>\n",
       "    <tr>\n",
       "      <th>0</th>\n",
       "      <td>x1</td>\n",
       "      <td>0.105646</td>\n",
       "    </tr>\n",
       "    <tr>\n",
       "      <th>1</th>\n",
       "      <td>y1</td>\n",
       "      <td>0.271273</td>\n",
       "    </tr>\n",
       "    <tr>\n",
       "      <th>2</th>\n",
       "      <td>x2</td>\n",
       "      <td>0.160941</td>\n",
       "    </tr>\n",
       "    <tr>\n",
       "      <th>3</th>\n",
       "      <td>y2</td>\n",
       "      <td>0.261928</td>\n",
       "    </tr>\n",
       "    <tr>\n",
       "      <th>4</th>\n",
       "      <td>size</td>\n",
       "      <td>0.087687</td>\n",
       "    </tr>\n",
       "    <tr>\n",
       "      <th>5</th>\n",
       "      <td>diag</td>\n",
       "      <td>0.112525</td>\n",
       "    </tr>\n",
       "  </tbody>\n",
       "</table>\n",
       "</div>"
      ],
      "text/plain": [
       "  feature  importance\n",
       "0      x1    0.105646\n",
       "1      y1    0.271273\n",
       "2      x2    0.160941\n",
       "3      y2    0.261928\n",
       "4    size    0.087687\n",
       "5    diag    0.112525"
      ]
     },
     "metadata": {},
     "output_type": "display_data"
    },
    {
     "name": "stdout",
     "output_type": "stream",
     "text": [
      "11\n"
     ]
    },
    {
     "data": {
      "text/plain": [
       "'predicted range: [1.00,10.00]'"
      ]
     },
     "metadata": {},
     "output_type": "display_data"
    },
    {
     "data": {
      "text/plain": [
       "'precision = [0.57856746 0.61233632 0.92192882 0.45802708 0.45131846 0.76192264\\n 0.32871972 0.42741935 0.6432319  0.60696517]'"
      ]
     },
     "metadata": {},
     "output_type": "display_data"
    },
    {
     "data": {
      "text/plain": [
       "'recall = [0.34366755 0.88894447 0.96014348 0.4736     0.2225     0.6734152\\n 0.418      0.49466667 0.61525594 0.73137311]'"
      ]
     },
     "metadata": {},
     "output_type": "display_data"
    },
    {
     "data": {
      "text/plain": [
       "'f-score = [0.43120215 0.72515813 0.94064818 0.46568338 0.2980576  0.7149401\\n 0.36802254 0.45859085 0.62893297 0.66338685]'"
      ]
     },
     "metadata": {},
     "output_type": "display_data"
    },
    {
     "data": {
      "text/html": [
       "<div>\n",
       "<style scoped>\n",
       "    .dataframe tbody tr th:only-of-type {\n",
       "        vertical-align: middle;\n",
       "    }\n",
       "\n",
       "    .dataframe tbody tr th {\n",
       "        vertical-align: top;\n",
       "    }\n",
       "\n",
       "    .dataframe thead th {\n",
       "        text-align: right;\n",
       "    }\n",
       "</style>\n",
       "<table border=\"1\" class=\"dataframe\">\n",
       "  <thead>\n",
       "    <tr style=\"text-align: right;\">\n",
       "      <th></th>\n",
       "      <th>feature</th>\n",
       "      <th>importance</th>\n",
       "    </tr>\n",
       "  </thead>\n",
       "  <tbody>\n",
       "    <tr>\n",
       "      <th>0</th>\n",
       "      <td>x1</td>\n",
       "      <td>0.104827</td>\n",
       "    </tr>\n",
       "    <tr>\n",
       "      <th>1</th>\n",
       "      <td>y1</td>\n",
       "      <td>0.279371</td>\n",
       "    </tr>\n",
       "    <tr>\n",
       "      <th>2</th>\n",
       "      <td>x2</td>\n",
       "      <td>0.136254</td>\n",
       "    </tr>\n",
       "    <tr>\n",
       "      <th>3</th>\n",
       "      <td>y2</td>\n",
       "      <td>0.260884</td>\n",
       "    </tr>\n",
       "    <tr>\n",
       "      <th>4</th>\n",
       "      <td>size</td>\n",
       "      <td>0.090805</td>\n",
       "    </tr>\n",
       "    <tr>\n",
       "      <th>5</th>\n",
       "      <td>diag</td>\n",
       "      <td>0.127859</td>\n",
       "    </tr>\n",
       "  </tbody>\n",
       "</table>\n",
       "</div>"
      ],
      "text/plain": [
       "  feature  importance\n",
       "0      x1    0.104827\n",
       "1      y1    0.279371\n",
       "2      x2    0.136254\n",
       "3      y2    0.260884\n",
       "4    size    0.090805\n",
       "5    diag    0.127859"
      ]
     },
     "metadata": {},
     "output_type": "display_data"
    },
    {
     "name": "stdout",
     "output_type": "stream",
     "text": [
      "12\n"
     ]
    },
    {
     "data": {
      "text/plain": [
       "'predicted range: [1.00,10.00]'"
      ]
     },
     "metadata": {},
     "output_type": "display_data"
    },
    {
     "data": {
      "text/plain": [
       "'precision = [0.66373626 0.64568934 0.96098726 0.54164637 0.41820418 0.79709064\\n 0.33431703 0.51449275 0.66315789 0.74555874]'"
      ]
     },
     "metadata": {},
     "output_type": "display_data"
    },
    {
     "data": {
      "text/plain": [
       "'recall = [0.29881266 0.88794397 0.96213631 0.4448     0.34       0.70925987\\n 0.6344     0.47333333 0.65339578 0.74279189]'"
      ]
     },
     "metadata": {},
     "output_type": "display_data"
    },
    {
     "data": {
      "text/plain": [
       "'f-score = [0.41209916 0.74768324 0.96156144 0.48846914 0.37506895 0.75061468\\n 0.43787962 0.49305556 0.65824065 0.74417274]'"
      ]
     },
     "metadata": {},
     "output_type": "display_data"
    },
    {
     "data": {
      "text/html": [
       "<div>\n",
       "<style scoped>\n",
       "    .dataframe tbody tr th:only-of-type {\n",
       "        vertical-align: middle;\n",
       "    }\n",
       "\n",
       "    .dataframe tbody tr th {\n",
       "        vertical-align: top;\n",
       "    }\n",
       "\n",
       "    .dataframe thead th {\n",
       "        text-align: right;\n",
       "    }\n",
       "</style>\n",
       "<table border=\"1\" class=\"dataframe\">\n",
       "  <thead>\n",
       "    <tr style=\"text-align: right;\">\n",
       "      <th></th>\n",
       "      <th>feature</th>\n",
       "      <th>importance</th>\n",
       "    </tr>\n",
       "  </thead>\n",
       "  <tbody>\n",
       "    <tr>\n",
       "      <th>0</th>\n",
       "      <td>x1</td>\n",
       "      <td>0.101521</td>\n",
       "    </tr>\n",
       "    <tr>\n",
       "      <th>1</th>\n",
       "      <td>y1</td>\n",
       "      <td>0.268821</td>\n",
       "    </tr>\n",
       "    <tr>\n",
       "      <th>2</th>\n",
       "      <td>x2</td>\n",
       "      <td>0.142318</td>\n",
       "    </tr>\n",
       "    <tr>\n",
       "      <th>3</th>\n",
       "      <td>y2</td>\n",
       "      <td>0.256897</td>\n",
       "    </tr>\n",
       "    <tr>\n",
       "      <th>4</th>\n",
       "      <td>size</td>\n",
       "      <td>0.092792</td>\n",
       "    </tr>\n",
       "    <tr>\n",
       "      <th>5</th>\n",
       "      <td>diag</td>\n",
       "      <td>0.137651</td>\n",
       "    </tr>\n",
       "  </tbody>\n",
       "</table>\n",
       "</div>"
      ],
      "text/plain": [
       "  feature  importance\n",
       "0      x1    0.101521\n",
       "1      y1    0.268821\n",
       "2      x2    0.142318\n",
       "3      y2    0.256897\n",
       "4    size    0.092792\n",
       "5    diag    0.137651"
      ]
     },
     "metadata": {},
     "output_type": "display_data"
    },
    {
     "name": "stdout",
     "output_type": "stream",
     "text": [
      "13\n"
     ]
    },
    {
     "data": {
      "text/plain": [
       "'predicted range: [1.00,10.00]'"
      ]
     },
     "metadata": {},
     "output_type": "display_data"
    },
    {
     "data": {
      "text/plain": [
       "'precision = [0.57694261 0.66146023 0.96733569 0.49415101 0.44761382 0.83496241\\n 0.39949958 0.66098081 0.69088463 0.76887608]'"
      ]
     },
     "metadata": {},
     "output_type": "display_data"
    },
    {
     "data": {
      "text/plain": [
       "'recall = [0.37467018 0.91095548 0.97967318 0.5576     0.408      0.73713906\\n 0.5748     0.41333333 0.68718635 0.76163289]'"
      ]
     },
     "metadata": {},
     "output_type": "display_data"
    },
    {
     "data": {
      "text/plain": [
       "'f-score = [0.45430914 0.76641414 0.97346535 0.52396166 0.42688988 0.78300723\\n 0.47137937 0.50861362 0.68903053 0.76523734]'"
      ]
     },
     "metadata": {},
     "output_type": "display_data"
    },
    {
     "data": {
      "text/html": [
       "<div>\n",
       "<style scoped>\n",
       "    .dataframe tbody tr th:only-of-type {\n",
       "        vertical-align: middle;\n",
       "    }\n",
       "\n",
       "    .dataframe tbody tr th {\n",
       "        vertical-align: top;\n",
       "    }\n",
       "\n",
       "    .dataframe thead th {\n",
       "        text-align: right;\n",
       "    }\n",
       "</style>\n",
       "<table border=\"1\" class=\"dataframe\">\n",
       "  <thead>\n",
       "    <tr style=\"text-align: right;\">\n",
       "      <th></th>\n",
       "      <th>feature</th>\n",
       "      <th>importance</th>\n",
       "    </tr>\n",
       "  </thead>\n",
       "  <tbody>\n",
       "    <tr>\n",
       "      <th>0</th>\n",
       "      <td>x1</td>\n",
       "      <td>0.100331</td>\n",
       "    </tr>\n",
       "    <tr>\n",
       "      <th>1</th>\n",
       "      <td>y1</td>\n",
       "      <td>0.248102</td>\n",
       "    </tr>\n",
       "    <tr>\n",
       "      <th>2</th>\n",
       "      <td>x2</td>\n",
       "      <td>0.150164</td>\n",
       "    </tr>\n",
       "    <tr>\n",
       "      <th>3</th>\n",
       "      <td>y2</td>\n",
       "      <td>0.249780</td>\n",
       "    </tr>\n",
       "    <tr>\n",
       "      <th>4</th>\n",
       "      <td>size</td>\n",
       "      <td>0.095978</td>\n",
       "    </tr>\n",
       "    <tr>\n",
       "      <th>5</th>\n",
       "      <td>diag</td>\n",
       "      <td>0.155644</td>\n",
       "    </tr>\n",
       "  </tbody>\n",
       "</table>\n",
       "</div>"
      ],
      "text/plain": [
       "  feature  importance\n",
       "0      x1    0.100331\n",
       "1      y1    0.248102\n",
       "2      x2    0.150164\n",
       "3      y2    0.249780\n",
       "4    size    0.095978\n",
       "5    diag    0.155644"
      ]
     },
     "metadata": {},
     "output_type": "display_data"
    },
    {
     "name": "stdout",
     "output_type": "stream",
     "text": [
      "14\n"
     ]
    },
    {
     "data": {
      "text/plain": [
       "'predicted range: [1.00,10.00]'"
      ]
     },
     "metadata": {},
     "output_type": "display_data"
    },
    {
     "data": {
      "text/plain": [
       "'precision = [0.64920775 0.68734039 0.98326026 0.54542111 0.55637982 0.89619943\\n 0.370271   0.59649123 0.71338635 0.79259259]'"
      ]
     },
     "metadata": {},
     "output_type": "display_data"
    },
    {
     "data": {
      "text/plain": [
       "'recall = [0.48647757 0.94247124 0.98326026 0.5932     0.375      0.727846\\n 0.552      0.49866667 0.7203078  0.79417642]'"
      ]
     },
     "metadata": {},
     "output_type": "display_data"
    },
    {
     "data": {
      "text/plain": [
       "'f-score = [0.55618401 0.79493671 0.98326026 0.56830811 0.44802867 0.8032967\\n 0.44323109 0.54320988 0.71683036 0.79338372]'"
      ]
     },
     "metadata": {},
     "output_type": "display_data"
    },
    {
     "data": {
      "text/html": [
       "<div>\n",
       "<style scoped>\n",
       "    .dataframe tbody tr th:only-of-type {\n",
       "        vertical-align: middle;\n",
       "    }\n",
       "\n",
       "    .dataframe tbody tr th {\n",
       "        vertical-align: top;\n",
       "    }\n",
       "\n",
       "    .dataframe thead th {\n",
       "        text-align: right;\n",
       "    }\n",
       "</style>\n",
       "<table border=\"1\" class=\"dataframe\">\n",
       "  <thead>\n",
       "    <tr style=\"text-align: right;\">\n",
       "      <th></th>\n",
       "      <th>feature</th>\n",
       "      <th>importance</th>\n",
       "    </tr>\n",
       "  </thead>\n",
       "  <tbody>\n",
       "    <tr>\n",
       "      <th>0</th>\n",
       "      <td>x1</td>\n",
       "      <td>0.099471</td>\n",
       "    </tr>\n",
       "    <tr>\n",
       "      <th>1</th>\n",
       "      <td>y1</td>\n",
       "      <td>0.250998</td>\n",
       "    </tr>\n",
       "    <tr>\n",
       "      <th>2</th>\n",
       "      <td>x2</td>\n",
       "      <td>0.134170</td>\n",
       "    </tr>\n",
       "    <tr>\n",
       "      <th>3</th>\n",
       "      <td>y2</td>\n",
       "      <td>0.246100</td>\n",
       "    </tr>\n",
       "    <tr>\n",
       "      <th>4</th>\n",
       "      <td>size</td>\n",
       "      <td>0.097487</td>\n",
       "    </tr>\n",
       "    <tr>\n",
       "      <th>5</th>\n",
       "      <td>diag</td>\n",
       "      <td>0.171774</td>\n",
       "    </tr>\n",
       "  </tbody>\n",
       "</table>\n",
       "</div>"
      ],
      "text/plain": [
       "  feature  importance\n",
       "0      x1    0.099471\n",
       "1      y1    0.250998\n",
       "2      x2    0.134170\n",
       "3      y2    0.246100\n",
       "4    size    0.097487\n",
       "5    diag    0.171774"
      ]
     },
     "metadata": {},
     "output_type": "display_data"
    },
    {
     "name": "stdout",
     "output_type": "stream",
     "text": [
      "15\n"
     ]
    },
    {
     "data": {
      "text/plain": [
       "'predicted range: [1.00,10.00]'"
      ]
     },
     "metadata": {},
     "output_type": "display_data"
    },
    {
     "data": {
      "text/plain": [
       "'precision = [0.64324101 0.72852099 0.98692033 0.56154381 0.57512626 0.87886598\\n 0.44149273 0.6157372  0.75       0.83032811]'"
      ]
     },
     "metadata": {},
     "output_type": "display_data"
    },
    {
     "data": {
      "text/plain": [
       "'recall = [0.51319261 0.92896448 0.99242726 0.646      0.4555     0.79223365\\n 0.5584     0.53733333 0.7587822  0.8018841 ]'"
      ]
     },
     "metadata": {},
     "output_type": "display_data"
    },
    {
     "data": {
      "text/plain": [
       "'f-score = [0.57090442 0.81662269 0.98966614 0.60081845 0.50837054 0.83330424\\n 0.49311197 0.5738697  0.75436554 0.81585826]'"
      ]
     },
     "metadata": {},
     "output_type": "display_data"
    },
    {
     "data": {
      "text/html": [
       "<div>\n",
       "<style scoped>\n",
       "    .dataframe tbody tr th:only-of-type {\n",
       "        vertical-align: middle;\n",
       "    }\n",
       "\n",
       "    .dataframe tbody tr th {\n",
       "        vertical-align: top;\n",
       "    }\n",
       "\n",
       "    .dataframe thead th {\n",
       "        text-align: right;\n",
       "    }\n",
       "</style>\n",
       "<table border=\"1\" class=\"dataframe\">\n",
       "  <thead>\n",
       "    <tr style=\"text-align: right;\">\n",
       "      <th></th>\n",
       "      <th>feature</th>\n",
       "      <th>importance</th>\n",
       "    </tr>\n",
       "  </thead>\n",
       "  <tbody>\n",
       "    <tr>\n",
       "      <th>0</th>\n",
       "      <td>x1</td>\n",
       "      <td>0.093930</td>\n",
       "    </tr>\n",
       "    <tr>\n",
       "      <th>1</th>\n",
       "      <td>y1</td>\n",
       "      <td>0.243042</td>\n",
       "    </tr>\n",
       "    <tr>\n",
       "      <th>2</th>\n",
       "      <td>x2</td>\n",
       "      <td>0.135888</td>\n",
       "    </tr>\n",
       "    <tr>\n",
       "      <th>3</th>\n",
       "      <td>y2</td>\n",
       "      <td>0.239685</td>\n",
       "    </tr>\n",
       "    <tr>\n",
       "      <th>4</th>\n",
       "      <td>size</td>\n",
       "      <td>0.103762</td>\n",
       "    </tr>\n",
       "    <tr>\n",
       "      <th>5</th>\n",
       "      <td>diag</td>\n",
       "      <td>0.183694</td>\n",
       "    </tr>\n",
       "  </tbody>\n",
       "</table>\n",
       "</div>"
      ],
      "text/plain": [
       "  feature  importance\n",
       "0      x1    0.093930\n",
       "1      y1    0.243042\n",
       "2      x2    0.135888\n",
       "3      y2    0.239685\n",
       "4    size    0.103762\n",
       "5    diag    0.183694"
      ]
     },
     "metadata": {},
     "output_type": "display_data"
    },
    {
     "name": "stdout",
     "output_type": "stream",
     "text": [
      "16\n"
     ]
    },
    {
     "data": {
      "text/plain": [
       "'predicted range: [1.00,10.00]'"
      ]
     },
     "metadata": {},
     "output_type": "display_data"
    },
    {
     "data": {
      "text/plain": [
       "'precision = [0.64141593 0.74192322 0.99324324 0.5880365  0.56503423 0.91634241\\n 0.52053646 0.65098634 0.77643909 0.84361425]'"
      ]
     },
     "metadata": {},
     "output_type": "display_data"
    },
    {
     "data": {
      "text/plain": [
       "'recall = [0.59762533 0.97648824 0.99601435 0.696      0.5365     0.78161301\\n 0.4968     0.572      0.77617932 0.83157294]'"
      ]
     },
     "metadata": {},
     "output_type": "display_data"
    },
    {
     "data": {
      "text/plain": [
       "'f-score = [0.6187468  0.84319654 0.99462687 0.63747939 0.55039754 0.84363246\\n 0.50839132 0.60894251 0.77630919 0.83755032]'"
      ]
     },
     "metadata": {},
     "output_type": "display_data"
    },
    {
     "data": {
      "text/html": [
       "<div>\n",
       "<style scoped>\n",
       "    .dataframe tbody tr th:only-of-type {\n",
       "        vertical-align: middle;\n",
       "    }\n",
       "\n",
       "    .dataframe tbody tr th {\n",
       "        vertical-align: top;\n",
       "    }\n",
       "\n",
       "    .dataframe thead th {\n",
       "        text-align: right;\n",
       "    }\n",
       "</style>\n",
       "<table border=\"1\" class=\"dataframe\">\n",
       "  <thead>\n",
       "    <tr style=\"text-align: right;\">\n",
       "      <th></th>\n",
       "      <th>feature</th>\n",
       "      <th>importance</th>\n",
       "    </tr>\n",
       "  </thead>\n",
       "  <tbody>\n",
       "    <tr>\n",
       "      <th>0</th>\n",
       "      <td>x1</td>\n",
       "      <td>0.092208</td>\n",
       "    </tr>\n",
       "    <tr>\n",
       "      <th>1</th>\n",
       "      <td>y1</td>\n",
       "      <td>0.236661</td>\n",
       "    </tr>\n",
       "    <tr>\n",
       "      <th>2</th>\n",
       "      <td>x2</td>\n",
       "      <td>0.129000</td>\n",
       "    </tr>\n",
       "    <tr>\n",
       "      <th>3</th>\n",
       "      <td>y2</td>\n",
       "      <td>0.234640</td>\n",
       "    </tr>\n",
       "    <tr>\n",
       "      <th>4</th>\n",
       "      <td>size</td>\n",
       "      <td>0.111624</td>\n",
       "    </tr>\n",
       "    <tr>\n",
       "      <th>5</th>\n",
       "      <td>diag</td>\n",
       "      <td>0.195867</td>\n",
       "    </tr>\n",
       "  </tbody>\n",
       "</table>\n",
       "</div>"
      ],
      "text/plain": [
       "  feature  importance\n",
       "0      x1    0.092208\n",
       "1      y1    0.236661\n",
       "2      x2    0.129000\n",
       "3      y2    0.234640\n",
       "4    size    0.111624\n",
       "5    diag    0.195867"
      ]
     },
     "metadata": {},
     "output_type": "display_data"
    },
    {
     "name": "stdout",
     "output_type": "stream",
     "text": [
      "17\n"
     ]
    },
    {
     "data": {
      "text/plain": [
       "'predicted range: [1.00,10.00]'"
      ]
     },
     "metadata": {},
     "output_type": "display_data"
    },
    {
     "data": {
      "text/plain": [
       "'precision = [0.65573192 0.78167006 0.99800319 0.65099458 0.63805358 0.90341322\\n 0.54077704 0.75942549 0.80884836 0.86343993]'"
      ]
     },
     "metadata": {},
     "output_type": "display_data"
    },
    {
     "data": {
      "text/plain": [
       "'recall = [0.61312665 0.95997999 0.99601435 0.72       0.5835     0.82575506\\n 0.618      0.564      0.80127133 0.85555238]'"
      ]
     },
     "metadata": {},
     "output_type": "display_data"
    },
    {
     "data": {
      "text/plain": [
       "'f-score = [0.63371399 0.86169735 0.99700778 0.68376068 0.60955863 0.8628403\\n 0.57681538 0.64728386 0.80504202 0.85947806]'"
      ]
     },
     "metadata": {},
     "output_type": "display_data"
    },
    {
     "data": {
      "text/html": [
       "<div>\n",
       "<style scoped>\n",
       "    .dataframe tbody tr th:only-of-type {\n",
       "        vertical-align: middle;\n",
       "    }\n",
       "\n",
       "    .dataframe tbody tr th {\n",
       "        vertical-align: top;\n",
       "    }\n",
       "\n",
       "    .dataframe thead th {\n",
       "        text-align: right;\n",
       "    }\n",
       "</style>\n",
       "<table border=\"1\" class=\"dataframe\">\n",
       "  <thead>\n",
       "    <tr style=\"text-align: right;\">\n",
       "      <th></th>\n",
       "      <th>feature</th>\n",
       "      <th>importance</th>\n",
       "    </tr>\n",
       "  </thead>\n",
       "  <tbody>\n",
       "    <tr>\n",
       "      <th>0</th>\n",
       "      <td>x1</td>\n",
       "      <td>0.090884</td>\n",
       "    </tr>\n",
       "    <tr>\n",
       "      <th>1</th>\n",
       "      <td>y1</td>\n",
       "      <td>0.232648</td>\n",
       "    </tr>\n",
       "    <tr>\n",
       "      <th>2</th>\n",
       "      <td>x2</td>\n",
       "      <td>0.125885</td>\n",
       "    </tr>\n",
       "    <tr>\n",
       "      <th>3</th>\n",
       "      <td>y2</td>\n",
       "      <td>0.227447</td>\n",
       "    </tr>\n",
       "    <tr>\n",
       "      <th>4</th>\n",
       "      <td>size</td>\n",
       "      <td>0.113350</td>\n",
       "    </tr>\n",
       "    <tr>\n",
       "      <th>5</th>\n",
       "      <td>diag</td>\n",
       "      <td>0.209786</td>\n",
       "    </tr>\n",
       "  </tbody>\n",
       "</table>\n",
       "</div>"
      ],
      "text/plain": [
       "  feature  importance\n",
       "0      x1    0.090884\n",
       "1      y1    0.232648\n",
       "2      x2    0.125885\n",
       "3      y2    0.227447\n",
       "4    size    0.113350\n",
       "5    diag    0.209786"
      ]
     },
     "metadata": {},
     "output_type": "display_data"
    },
    {
     "name": "stdout",
     "output_type": "stream",
     "text": [
      "18\n"
     ]
    },
    {
     "data": {
      "text/plain": [
       "'predicted range: [1.00,10.00]'"
      ]
     },
     "metadata": {},
     "output_type": "display_data"
    },
    {
     "data": {
      "text/plain": [
       "'precision = [0.69944097 0.79753086 0.99920223 0.66995074 0.69920993 0.92630803\\n 0.59703819 0.75571895 0.81238095 0.90269779]'"
      ]
     },
     "metadata": {},
     "output_type": "display_data"
    },
    {
     "data": {
      "text/plain": [
       "'recall = [0.70151715 0.96948474 0.99840574 0.7616     0.6195     0.83438433\\n 0.6128     0.61666667 0.85613918 0.85012846]'"
      ]
     },
     "metadata": {},
     "output_type": "display_data"
    },
    {
     "data": {
      "text/plain": [
       "'f-score = [0.70047752 0.87514112 0.99880383 0.71284163 0.65694592 0.87794657\\n 0.60481642 0.67914831 0.83368627 0.87562482]'"
      ]
     },
     "metadata": {},
     "output_type": "display_data"
    },
    {
     "data": {
      "text/html": [
       "<div>\n",
       "<style scoped>\n",
       "    .dataframe tbody tr th:only-of-type {\n",
       "        vertical-align: middle;\n",
       "    }\n",
       "\n",
       "    .dataframe tbody tr th {\n",
       "        vertical-align: top;\n",
       "    }\n",
       "\n",
       "    .dataframe thead th {\n",
       "        text-align: right;\n",
       "    }\n",
       "</style>\n",
       "<table border=\"1\" class=\"dataframe\">\n",
       "  <thead>\n",
       "    <tr style=\"text-align: right;\">\n",
       "      <th></th>\n",
       "      <th>feature</th>\n",
       "      <th>importance</th>\n",
       "    </tr>\n",
       "  </thead>\n",
       "  <tbody>\n",
       "    <tr>\n",
       "      <th>0</th>\n",
       "      <td>x1</td>\n",
       "      <td>0.086800</td>\n",
       "    </tr>\n",
       "    <tr>\n",
       "      <th>1</th>\n",
       "      <td>y1</td>\n",
       "      <td>0.214629</td>\n",
       "    </tr>\n",
       "    <tr>\n",
       "      <th>2</th>\n",
       "      <td>x2</td>\n",
       "      <td>0.134526</td>\n",
       "    </tr>\n",
       "    <tr>\n",
       "      <th>3</th>\n",
       "      <td>y2</td>\n",
       "      <td>0.224810</td>\n",
       "    </tr>\n",
       "    <tr>\n",
       "      <th>4</th>\n",
       "      <td>size</td>\n",
       "      <td>0.117568</td>\n",
       "    </tr>\n",
       "    <tr>\n",
       "      <th>5</th>\n",
       "      <td>diag</td>\n",
       "      <td>0.221668</td>\n",
       "    </tr>\n",
       "  </tbody>\n",
       "</table>\n",
       "</div>"
      ],
      "text/plain": [
       "  feature  importance\n",
       "0      x1    0.086800\n",
       "1      y1    0.214629\n",
       "2      x2    0.134526\n",
       "3      y2    0.224810\n",
       "4    size    0.117568\n",
       "5    diag    0.221668"
      ]
     },
     "metadata": {},
     "output_type": "display_data"
    },
    {
     "name": "stdout",
     "output_type": "stream",
     "text": [
      "19\n"
     ]
    },
    {
     "data": {
      "text/plain": [
       "'predicted range: [1.00,10.00]'"
      ]
     },
     "metadata": {},
     "output_type": "display_data"
    },
    {
     "data": {
      "text/plain": [
       "'precision = [0.74273304 0.83580786 1.         0.69514296 0.74012243 0.92529349\\n 0.6498873  0.85161871 0.84494603 0.90773286]'"
      ]
     },
     "metadata": {},
     "output_type": "display_data"
    },
    {
     "data": {
      "text/plain": [
       "'recall = [0.73317942 0.95747874 0.9988043  0.8072     0.665      0.86325921\\n 0.692      0.63133333 0.86416862 0.88467028]'"
      ]
     },
     "metadata": {},
     "output_type": "display_data"
    },
    {
     "data": {
      "text/plain": [
       "'f-score = [0.73792531 0.89251574 0.99940179 0.74699241 0.70055307 0.89320055\\n 0.67028284 0.72511485 0.85444922 0.8960532 ]'"
      ]
     },
     "metadata": {},
     "output_type": "display_data"
    },
    {
     "data": {
      "text/html": [
       "<div>\n",
       "<style scoped>\n",
       "    .dataframe tbody tr th:only-of-type {\n",
       "        vertical-align: middle;\n",
       "    }\n",
       "\n",
       "    .dataframe tbody tr th {\n",
       "        vertical-align: top;\n",
       "    }\n",
       "\n",
       "    .dataframe thead th {\n",
       "        text-align: right;\n",
       "    }\n",
       "</style>\n",
       "<table border=\"1\" class=\"dataframe\">\n",
       "  <thead>\n",
       "    <tr style=\"text-align: right;\">\n",
       "      <th></th>\n",
       "      <th>feature</th>\n",
       "      <th>importance</th>\n",
       "    </tr>\n",
       "  </thead>\n",
       "  <tbody>\n",
       "    <tr>\n",
       "      <th>0</th>\n",
       "      <td>x1</td>\n",
       "      <td>0.084072</td>\n",
       "    </tr>\n",
       "    <tr>\n",
       "      <th>1</th>\n",
       "      <td>y1</td>\n",
       "      <td>0.217622</td>\n",
       "    </tr>\n",
       "    <tr>\n",
       "      <th>2</th>\n",
       "      <td>x2</td>\n",
       "      <td>0.123020</td>\n",
       "    </tr>\n",
       "    <tr>\n",
       "      <th>3</th>\n",
       "      <td>y2</td>\n",
       "      <td>0.220228</td>\n",
       "    </tr>\n",
       "    <tr>\n",
       "      <th>4</th>\n",
       "      <td>size</td>\n",
       "      <td>0.119968</td>\n",
       "    </tr>\n",
       "    <tr>\n",
       "      <th>5</th>\n",
       "      <td>diag</td>\n",
       "      <td>0.235089</td>\n",
       "    </tr>\n",
       "  </tbody>\n",
       "</table>\n",
       "</div>"
      ],
      "text/plain": [
       "  feature  importance\n",
       "0      x1    0.084072\n",
       "1      y1    0.217622\n",
       "2      x2    0.123020\n",
       "3      y2    0.220228\n",
       "4    size    0.119968\n",
       "5    diag    0.235089"
      ]
     },
     "metadata": {},
     "output_type": "display_data"
    }
   ],
   "source": [
    "for r in range(5, 20):\n",
    "    feature_cols = ['x1', 'y1', 'x2', 'y2', 'size', 'diag']\n",
    "    X = test[feature_cols]\n",
    "    y = test[[\"class\"]]\n",
    "\n",
    "    treeclf = DecisionTreeClassifier(max_depth=r, random_state=0)\n",
    "    treeclf.fit(X, y)\n",
    "\n",
    "    graph = Source(tree.export_graphviz(treeclf, out_file=None,\n",
    "                                    feature_names=feature_cols,\n",
    "#                                     class_names=['0', '1'], filled = True))\n",
    "                                    class_names=['1', '2', '3', '4', '5', '6', '7', '8', '9', '10'], filled = True))\n",
    "    svg = SVG(graph.pipe(format='svg'))\n",
    "    testSet = test[feature_cols]\n",
    "    y_pred = treeclf.predict(testSet)\n",
    "    \n",
    "    print(r)\n",
    "\n",
    "    display('predicted range: [{0:.2f},{1:.2f}]'.format(min(y_pred), max(y_pred)))\n",
    "\n",
    "    p,r,f,s = precision_recall_fscore_support(y, y_pred)\n",
    "    display('precision = {}'.format(p))\n",
    "    display('recall = {}'.format(r))\n",
    "    display('f-score = {}'.format(f))\n",
    "    display(pd.DataFrame({'feature':feature_cols, 'importance':treeclf.feature_importances_}))\n",
    "    #display(svg)"
   ]
  },
  {
   "cell_type": "code",
   "execution_count": 34,
   "metadata": {},
   "outputs": [
    {
     "data": {
      "text/plain": [
       "'predicted range: [1.00,10.00]'"
      ]
     },
     "metadata": {},
     "output_type": "display_data"
    },
    {
     "name": "stderr",
     "output_type": "stream",
     "text": [
      "c:\\users\\telepatheticman\\appdata\\local\\programs\\python\\python37\\lib\\site-packages\\sklearn\\metrics\\_classification.py:1272: UndefinedMetricWarning: Precision and F-score are ill-defined and being set to 0.0 in labels with no predicted samples. Use `zero_division` parameter to control this behavior.\n",
      "  _warn_prf(average, modifier, msg_start, len(result))\n"
     ]
    },
    {
     "data": {
      "text/plain": [
       "'precision = [0.19442985 0.53125    0.46954449 0.31850534 0.         0.29803534\\n 0.         0.5988024  0.47300679 0.60064205]'"
      ]
     },
     "metadata": {},
     "output_type": "display_data"
    },
    {
     "data": {
      "text/plain": [
       "'recall = [0.36609499 0.02551276 0.70665604 0.1432     0.         0.80053103\\n 0.         0.33333333 0.44262295 0.53411362]'"
      ]
     },
     "metadata": {},
     "output_type": "display_data"
    },
    {
     "data": {
      "text/plain": [
       "'f-score = [0.25397552 0.04868735 0.56420048 0.19757174 0.         0.43435981\\n 0.         0.42826552 0.45731075 0.56542762]'"
      ]
     },
     "metadata": {},
     "output_type": "display_data"
    },
    {
     "data": {
      "text/html": [
       "<div>\n",
       "<style scoped>\n",
       "    .dataframe tbody tr th:only-of-type {\n",
       "        vertical-align: middle;\n",
       "    }\n",
       "\n",
       "    .dataframe tbody tr th {\n",
       "        vertical-align: top;\n",
       "    }\n",
       "\n",
       "    .dataframe thead th {\n",
       "        text-align: right;\n",
       "    }\n",
       "</style>\n",
       "<table border=\"1\" class=\"dataframe\">\n",
       "  <thead>\n",
       "    <tr style=\"text-align: right;\">\n",
       "      <th></th>\n",
       "      <th>feature</th>\n",
       "      <th>importance</th>\n",
       "    </tr>\n",
       "  </thead>\n",
       "  <tbody>\n",
       "    <tr>\n",
       "      <th>0</th>\n",
       "      <td>x1</td>\n",
       "      <td>0.158504</td>\n",
       "    </tr>\n",
       "    <tr>\n",
       "      <th>1</th>\n",
       "      <td>y1</td>\n",
       "      <td>0.405195</td>\n",
       "    </tr>\n",
       "    <tr>\n",
       "      <th>2</th>\n",
       "      <td>x2</td>\n",
       "      <td>0.156191</td>\n",
       "    </tr>\n",
       "    <tr>\n",
       "      <th>3</th>\n",
       "      <td>y2</td>\n",
       "      <td>0.280110</td>\n",
       "    </tr>\n",
       "  </tbody>\n",
       "</table>\n",
       "</div>"
      ],
      "text/plain": [
       "  feature  importance\n",
       "0      x1    0.158504\n",
       "1      y1    0.405195\n",
       "2      x2    0.156191\n",
       "3      y2    0.280110"
      ]
     },
     "metadata": {},
     "output_type": "display_data"
    },
    {
     "data": {
      "text/plain": [
       "'predicted range: [1.00,10.00]'"
      ]
     },
     "metadata": {},
     "output_type": "display_data"
    },
    {
     "name": "stderr",
     "output_type": "stream",
     "text": [
      "c:\\users\\telepatheticman\\appdata\\local\\programs\\python\\python37\\lib\\site-packages\\sklearn\\metrics\\_classification.py:1272: UndefinedMetricWarning: Precision and F-score are ill-defined and being set to 0.0 in labels with no predicted samples. Use `zero_division` parameter to control this behavior.\n",
      "  _warn_prf(average, modifier, msg_start, len(result))\n"
     ]
    },
    {
     "data": {
      "text/plain": [
       "'precision = [0.22908071 0.35201573 0.7260274  0.41907895 0.         0.54716981\\n 0.49305556 0.2594157  0.54777287 0.62206497]'"
      ]
     },
     "metadata": {},
     "output_type": "display_data"
    },
    {
     "data": {
      "text/plain": [
       "'recall = [0.45778364 0.35817909 0.71821443 0.2548     0.         0.64487222\\n 0.1988     0.49133333 0.53897625 0.5520982 ]'"
      ]
     },
     "metadata": {},
     "output_type": "display_data"
    },
    {
     "data": {
      "text/plain": [
       "'f-score = [0.30535695 0.35507067 0.72209978 0.31691542 0.         0.59201706\\n 0.28335234 0.3395531  0.54333895 0.58499698]'"
      ]
     },
     "metadata": {},
     "output_type": "display_data"
    },
    {
     "data": {
      "text/html": [
       "<div>\n",
       "<style scoped>\n",
       "    .dataframe tbody tr th:only-of-type {\n",
       "        vertical-align: middle;\n",
       "    }\n",
       "\n",
       "    .dataframe tbody tr th {\n",
       "        vertical-align: top;\n",
       "    }\n",
       "\n",
       "    .dataframe thead th {\n",
       "        text-align: right;\n",
       "    }\n",
       "</style>\n",
       "<table border=\"1\" class=\"dataframe\">\n",
       "  <thead>\n",
       "    <tr style=\"text-align: right;\">\n",
       "      <th></th>\n",
       "      <th>feature</th>\n",
       "      <th>importance</th>\n",
       "    </tr>\n",
       "  </thead>\n",
       "  <tbody>\n",
       "    <tr>\n",
       "      <th>0</th>\n",
       "      <td>x1</td>\n",
       "      <td>0.126556</td>\n",
       "    </tr>\n",
       "    <tr>\n",
       "      <th>1</th>\n",
       "      <td>y1</td>\n",
       "      <td>0.333146</td>\n",
       "    </tr>\n",
       "    <tr>\n",
       "      <th>2</th>\n",
       "      <td>x2</td>\n",
       "      <td>0.168014</td>\n",
       "    </tr>\n",
       "    <tr>\n",
       "      <th>3</th>\n",
       "      <td>y2</td>\n",
       "      <td>0.372284</td>\n",
       "    </tr>\n",
       "  </tbody>\n",
       "</table>\n",
       "</div>"
      ],
      "text/plain": [
       "  feature  importance\n",
       "0      x1    0.126556\n",
       "1      y1    0.333146\n",
       "2      x2    0.168014\n",
       "3      y2    0.372284"
      ]
     },
     "metadata": {},
     "output_type": "display_data"
    },
    {
     "data": {
      "text/plain": [
       "'predicted range: [1.00,10.00]'"
      ]
     },
     "metadata": {},
     "output_type": "display_data"
    },
    {
     "name": "stderr",
     "output_type": "stream",
     "text": [
      "c:\\users\\telepatheticman\\appdata\\local\\programs\\python\\python37\\lib\\site-packages\\sklearn\\metrics\\_classification.py:1272: UndefinedMetricWarning: Precision and F-score are ill-defined and being set to 0.0 in labels with no predicted samples. Use `zero_division` parameter to control this behavior.\n",
      "  _warn_prf(average, modifier, msg_start, len(result))\n"
     ]
    },
    {
     "data": {
      "text/plain": [
       "'precision = [0.27595269 0.43583608 0.72964786 0.32119833 0.         0.64663866\\n 0.50347567 0.28473648 0.57413011 0.62437592]'"
      ]
     },
     "metadata": {},
     "output_type": "display_data"
    },
    {
     "data": {
      "text/plain": [
       "'recall = [0.41556728 0.72886443 0.76803507 0.3388     0.         0.51078659\\n 0.2028     0.55466667 0.50786216 0.60690836]'"
      ]
     },
     "metadata": {},
     "output_type": "display_data"
    },
    {
     "data": {
      "text/plain": [
       "'f-score = [0.33166623 0.54548858 0.74834951 0.32976445 0.         0.57073985\\n 0.28913601 0.37630032 0.5389668  0.61551824]'"
      ]
     },
     "metadata": {},
     "output_type": "display_data"
    },
    {
     "data": {
      "text/html": [
       "<div>\n",
       "<style scoped>\n",
       "    .dataframe tbody tr th:only-of-type {\n",
       "        vertical-align: middle;\n",
       "    }\n",
       "\n",
       "    .dataframe tbody tr th {\n",
       "        vertical-align: top;\n",
       "    }\n",
       "\n",
       "    .dataframe thead th {\n",
       "        text-align: right;\n",
       "    }\n",
       "</style>\n",
       "<table border=\"1\" class=\"dataframe\">\n",
       "  <thead>\n",
       "    <tr style=\"text-align: right;\">\n",
       "      <th></th>\n",
       "      <th>feature</th>\n",
       "      <th>importance</th>\n",
       "    </tr>\n",
       "  </thead>\n",
       "  <tbody>\n",
       "    <tr>\n",
       "      <th>0</th>\n",
       "      <td>x1</td>\n",
       "      <td>0.134901</td>\n",
       "    </tr>\n",
       "    <tr>\n",
       "      <th>1</th>\n",
       "      <td>y1</td>\n",
       "      <td>0.309071</td>\n",
       "    </tr>\n",
       "    <tr>\n",
       "      <th>2</th>\n",
       "      <td>x2</td>\n",
       "      <td>0.167136</td>\n",
       "    </tr>\n",
       "    <tr>\n",
       "      <th>3</th>\n",
       "      <td>y2</td>\n",
       "      <td>0.388892</td>\n",
       "    </tr>\n",
       "  </tbody>\n",
       "</table>\n",
       "</div>"
      ],
      "text/plain": [
       "  feature  importance\n",
       "0      x1    0.134901\n",
       "1      y1    0.309071\n",
       "2      x2    0.167136\n",
       "3      y2    0.388892"
      ]
     },
     "metadata": {},
     "output_type": "display_data"
    },
    {
     "data": {
      "text/plain": [
       "'predicted range: [1.00,10.00]'"
      ]
     },
     "metadata": {},
     "output_type": "display_data"
    },
    {
     "data": {
      "text/plain": [
       "'precision = [0.47797174 0.45855577 0.77832512 0.37934028 0.26419966 0.68582541\\n 0.32617411 0.27279494 0.53570388 0.6815541 ]'"
      ]
     },
     "metadata": {},
     "output_type": "display_data"
    },
    {
     "data": {
      "text/plain": [
       "'recall = [0.1896438  0.8164082  0.81865285 0.3496     0.1535     0.52671756\\n 0.4556     0.48866667 0.61492138 0.53582643]'"
      ]
     },
     "metadata": {},
     "output_type": "display_data"
    },
    {
     "data": {
      "text/plain": [
       "'f-score = [0.27154664 0.5872616  0.7979798  0.36386345 0.1941809  0.59583255\\n 0.38017356 0.35013136 0.57258567 0.59996804]'"
      ]
     },
     "metadata": {},
     "output_type": "display_data"
    },
    {
     "data": {
      "text/html": [
       "<div>\n",
       "<style scoped>\n",
       "    .dataframe tbody tr th:only-of-type {\n",
       "        vertical-align: middle;\n",
       "    }\n",
       "\n",
       "    .dataframe tbody tr th {\n",
       "        vertical-align: top;\n",
       "    }\n",
       "\n",
       "    .dataframe thead th {\n",
       "        text-align: right;\n",
       "    }\n",
       "</style>\n",
       "<table border=\"1\" class=\"dataframe\">\n",
       "  <thead>\n",
       "    <tr style=\"text-align: right;\">\n",
       "      <th></th>\n",
       "      <th>feature</th>\n",
       "      <th>importance</th>\n",
       "    </tr>\n",
       "  </thead>\n",
       "  <tbody>\n",
       "    <tr>\n",
       "      <th>0</th>\n",
       "      <td>x1</td>\n",
       "      <td>0.136478</td>\n",
       "    </tr>\n",
       "    <tr>\n",
       "      <th>1</th>\n",
       "      <td>y1</td>\n",
       "      <td>0.316310</td>\n",
       "    </tr>\n",
       "    <tr>\n",
       "      <th>2</th>\n",
       "      <td>x2</td>\n",
       "      <td>0.168708</td>\n",
       "    </tr>\n",
       "    <tr>\n",
       "      <th>3</th>\n",
       "      <td>y2</td>\n",
       "      <td>0.378504</td>\n",
       "    </tr>\n",
       "  </tbody>\n",
       "</table>\n",
       "</div>"
      ],
      "text/plain": [
       "  feature  importance\n",
       "0      x1    0.136478\n",
       "1      y1    0.316310\n",
       "2      x2    0.168708\n",
       "3      y2    0.378504"
      ]
     },
     "metadata": {},
     "output_type": "display_data"
    },
    {
     "data": {
      "text/plain": [
       "'predicted range: [1.00,10.00]'"
      ]
     },
     "metadata": {},
     "output_type": "display_data"
    },
    {
     "data": {
      "text/plain": [
       "'precision = [0.54250559 0.50788955 0.82043222 0.34075155 0.27153492 0.60716571\\n 0.40677306 0.65912519 0.46406685 0.64659539]'"
      ]
     },
     "metadata": {},
     "output_type": "display_data"
    },
    {
     "data": {
      "text/plain": [
       "'recall = [0.15996042 0.77288644 0.83220407 0.3736     0.383      0.62993694\\n 0.418      0.29133333 0.55737705 0.65600914]'"
      ]
     },
     "metadata": {},
     "output_type": "display_data"
    },
    {
     "data": {
      "text/plain": [
       "'f-score = [0.24707081 0.61297362 0.82627622 0.35642053 0.31777639 0.61834175\\n 0.41231012 0.40406842 0.50645995 0.65126824]'"
      ]
     },
     "metadata": {},
     "output_type": "display_data"
    },
    {
     "data": {
      "text/html": [
       "<div>\n",
       "<style scoped>\n",
       "    .dataframe tbody tr th:only-of-type {\n",
       "        vertical-align: middle;\n",
       "    }\n",
       "\n",
       "    .dataframe tbody tr th {\n",
       "        vertical-align: top;\n",
       "    }\n",
       "\n",
       "    .dataframe thead th {\n",
       "        text-align: right;\n",
       "    }\n",
       "</style>\n",
       "<table border=\"1\" class=\"dataframe\">\n",
       "  <thead>\n",
       "    <tr style=\"text-align: right;\">\n",
       "      <th></th>\n",
       "      <th>feature</th>\n",
       "      <th>importance</th>\n",
       "    </tr>\n",
       "  </thead>\n",
       "  <tbody>\n",
       "    <tr>\n",
       "      <th>0</th>\n",
       "      <td>x1</td>\n",
       "      <td>0.138912</td>\n",
       "    </tr>\n",
       "    <tr>\n",
       "      <th>1</th>\n",
       "      <td>y1</td>\n",
       "      <td>0.317202</td>\n",
       "    </tr>\n",
       "    <tr>\n",
       "      <th>2</th>\n",
       "      <td>x2</td>\n",
       "      <td>0.171307</td>\n",
       "    </tr>\n",
       "    <tr>\n",
       "      <th>3</th>\n",
       "      <td>y2</td>\n",
       "      <td>0.372578</td>\n",
       "    </tr>\n",
       "  </tbody>\n",
       "</table>\n",
       "</div>"
      ],
      "text/plain": [
       "  feature  importance\n",
       "0      x1    0.138912\n",
       "1      y1    0.317202\n",
       "2      x2    0.171307\n",
       "3      y2    0.372578"
      ]
     },
     "metadata": {},
     "output_type": "display_data"
    },
    {
     "data": {
      "text/plain": [
       "'predicted range: [1.00,10.00]'"
      ]
     },
     "metadata": {},
     "output_type": "display_data"
    },
    {
     "data": {
      "text/plain": [
       "'precision = [0.49472038 0.53738477 0.84788732 0.34654407 0.31665611 0.65181347\\n 0.27764228 0.46937015 0.56577381 0.69531513]'"
      ]
     },
     "metadata": {},
     "output_type": "display_data"
    },
    {
     "data": {
      "text/plain": [
       "'recall = [0.41721636 0.7873937  0.8397768  0.4372     0.25       0.62628609\\n 0.2732     0.36266667 0.63599866 0.58892378]'"
      ]
     },
     "metadata": {},
     "output_type": "display_data"
    },
    {
     "data": {
      "text/plain": [
       "'f-score = [0.4526749  0.6387987  0.84381258 0.38662894 0.27940766 0.63879485\\n 0.27540323 0.40917638 0.59883446 0.63771252]'"
      ]
     },
     "metadata": {},
     "output_type": "display_data"
    },
    {
     "data": {
      "text/html": [
       "<div>\n",
       "<style scoped>\n",
       "    .dataframe tbody tr th:only-of-type {\n",
       "        vertical-align: middle;\n",
       "    }\n",
       "\n",
       "    .dataframe tbody tr th {\n",
       "        vertical-align: top;\n",
       "    }\n",
       "\n",
       "    .dataframe thead th {\n",
       "        text-align: right;\n",
       "    }\n",
       "</style>\n",
       "<table border=\"1\" class=\"dataframe\">\n",
       "  <thead>\n",
       "    <tr style=\"text-align: right;\">\n",
       "      <th></th>\n",
       "      <th>feature</th>\n",
       "      <th>importance</th>\n",
       "    </tr>\n",
       "  </thead>\n",
       "  <tbody>\n",
       "    <tr>\n",
       "      <th>0</th>\n",
       "      <td>x1</td>\n",
       "      <td>0.141013</td>\n",
       "    </tr>\n",
       "    <tr>\n",
       "      <th>1</th>\n",
       "      <td>y1</td>\n",
       "      <td>0.319912</td>\n",
       "    </tr>\n",
       "    <tr>\n",
       "      <th>2</th>\n",
       "      <td>x2</td>\n",
       "      <td>0.174940</td>\n",
       "    </tr>\n",
       "    <tr>\n",
       "      <th>3</th>\n",
       "      <td>y2</td>\n",
       "      <td>0.364135</td>\n",
       "    </tr>\n",
       "  </tbody>\n",
       "</table>\n",
       "</div>"
      ],
      "text/plain": [
       "  feature  importance\n",
       "0      x1    0.141013\n",
       "1      y1    0.319912\n",
       "2      x2    0.174940\n",
       "3      y2    0.364135"
      ]
     },
     "metadata": {},
     "output_type": "display_data"
    },
    {
     "data": {
      "text/plain": [
       "'predicted range: [1.00,10.00]'"
      ]
     },
     "metadata": {},
     "output_type": "display_data"
    },
    {
     "data": {
      "text/plain": [
       "'precision = [0.496483   0.53043214 0.85972669 0.36234357 0.36065574 0.69444444\\n 0.37787262 0.47736626 0.6186591  0.68424102]'"
      ]
     },
     "metadata": {},
     "output_type": "display_data"
    },
    {
     "data": {
      "text/plain": [
       "'recall = [0.27935356 0.87193597 0.85253089 0.5096     0.231      0.63060073\\n 0.4604     0.38666667 0.58347273 0.67427919]'"
      ]
     },
     "metadata": {},
     "output_type": "display_data"
    },
    {
     "data": {
      "text/plain": [
       "'f-score = [0.35753482 0.65960265 0.85611367 0.42353723 0.28162146 0.66098452\\n 0.41507393 0.42725599 0.60055096 0.67922358]'"
      ]
     },
     "metadata": {},
     "output_type": "display_data"
    },
    {
     "data": {
      "text/html": [
       "<div>\n",
       "<style scoped>\n",
       "    .dataframe tbody tr th:only-of-type {\n",
       "        vertical-align: middle;\n",
       "    }\n",
       "\n",
       "    .dataframe tbody tr th {\n",
       "        vertical-align: top;\n",
       "    }\n",
       "\n",
       "    .dataframe thead th {\n",
       "        text-align: right;\n",
       "    }\n",
       "</style>\n",
       "<table border=\"1\" class=\"dataframe\">\n",
       "  <thead>\n",
       "    <tr style=\"text-align: right;\">\n",
       "      <th></th>\n",
       "      <th>feature</th>\n",
       "      <th>importance</th>\n",
       "    </tr>\n",
       "  </thead>\n",
       "  <tbody>\n",
       "    <tr>\n",
       "      <th>0</th>\n",
       "      <td>x1</td>\n",
       "      <td>0.140839</td>\n",
       "    </tr>\n",
       "    <tr>\n",
       "      <th>1</th>\n",
       "      <td>y1</td>\n",
       "      <td>0.315586</td>\n",
       "    </tr>\n",
       "    <tr>\n",
       "      <th>2</th>\n",
       "      <td>x2</td>\n",
       "      <td>0.179763</td>\n",
       "    </tr>\n",
       "    <tr>\n",
       "      <th>3</th>\n",
       "      <td>y2</td>\n",
       "      <td>0.363812</td>\n",
       "    </tr>\n",
       "  </tbody>\n",
       "</table>\n",
       "</div>"
      ],
      "text/plain": [
       "  feature  importance\n",
       "0      x1    0.140839\n",
       "1      y1    0.315586\n",
       "2      x2    0.179763\n",
       "3      y2    0.363812"
      ]
     },
     "metadata": {},
     "output_type": "display_data"
    },
    {
     "data": {
      "text/plain": [
       "'predicted range: [1.00,10.00]'"
      ]
     },
     "metadata": {},
     "output_type": "display_data"
    },
    {
     "data": {
      "text/plain": [
       "'precision = [0.47822851 0.60056062 0.88689992 0.41168831 0.3833448  0.74297337\\n 0.3742503  0.41357234 0.62534019 0.74072814]'"
      ]
     },
     "metadata": {},
     "output_type": "display_data"
    },
    {
     "data": {
      "text/plain": [
       "'recall = [0.42381266 0.85742871 0.86887206 0.5072     0.2785     0.6667773\\n 0.3744     0.43066667 0.69187019 0.62146731]'"
      ]
     },
     "metadata": {},
     "output_type": "display_data"
    },
    {
     "data": {
      "text/plain": [
       "'f-score = [0.44937926 0.7063672  0.87779344 0.45448029 0.32261801 0.70281616\\n 0.37432513 0.42194644 0.65692503 0.67587706]'"
      ]
     },
     "metadata": {},
     "output_type": "display_data"
    },
    {
     "data": {
      "text/html": [
       "<div>\n",
       "<style scoped>\n",
       "    .dataframe tbody tr th:only-of-type {\n",
       "        vertical-align: middle;\n",
       "    }\n",
       "\n",
       "    .dataframe tbody tr th {\n",
       "        vertical-align: top;\n",
       "    }\n",
       "\n",
       "    .dataframe thead th {\n",
       "        text-align: right;\n",
       "    }\n",
       "</style>\n",
       "<table border=\"1\" class=\"dataframe\">\n",
       "  <thead>\n",
       "    <tr style=\"text-align: right;\">\n",
       "      <th></th>\n",
       "      <th>feature</th>\n",
       "      <th>importance</th>\n",
       "    </tr>\n",
       "  </thead>\n",
       "  <tbody>\n",
       "    <tr>\n",
       "      <th>0</th>\n",
       "      <td>x1</td>\n",
       "      <td>0.141780</td>\n",
       "    </tr>\n",
       "    <tr>\n",
       "      <th>1</th>\n",
       "      <td>y1</td>\n",
       "      <td>0.306734</td>\n",
       "    </tr>\n",
       "    <tr>\n",
       "      <th>2</th>\n",
       "      <td>x2</td>\n",
       "      <td>0.184695</td>\n",
       "    </tr>\n",
       "    <tr>\n",
       "      <th>3</th>\n",
       "      <td>y2</td>\n",
       "      <td>0.366791</td>\n",
       "    </tr>\n",
       "  </tbody>\n",
       "</table>\n",
       "</div>"
      ],
      "text/plain": [
       "  feature  importance\n",
       "0      x1    0.141780\n",
       "1      y1    0.306734\n",
       "2      x2    0.184695\n",
       "3      y2    0.366791"
      ]
     },
     "metadata": {},
     "output_type": "display_data"
    },
    {
     "data": {
      "text/plain": [
       "'predicted range: [1.00,10.00]'"
      ]
     },
     "metadata": {},
     "output_type": "display_data"
    },
    {
     "data": {
      "text/plain": [
       "'precision = [0.49943841 0.61137602 0.90566038 0.44585987 0.3986118  0.76190476\\n 0.41641599 0.439763   0.66501813 0.73833486]'"
      ]
     },
     "metadata": {},
     "output_type": "display_data"
    },
    {
     "data": {
      "text/plain": [
       "'recall = [0.43997361 0.89794897 0.86090076 0.476      0.402      0.68503153\\n 0.3876     0.44533333 0.67480763 0.6911219 ]'"
      ]
     },
     "metadata": {},
     "output_type": "display_data"
    },
    {
     "data": {
      "text/plain": [
       "'f-score = [0.46782395 0.72745694 0.88271353 0.46043722 0.40029873 0.72142607\\n 0.40149161 0.44253064 0.66987712 0.71394869]'"
      ]
     },
     "metadata": {},
     "output_type": "display_data"
    },
    {
     "data": {
      "text/html": [
       "<div>\n",
       "<style scoped>\n",
       "    .dataframe tbody tr th:only-of-type {\n",
       "        vertical-align: middle;\n",
       "    }\n",
       "\n",
       "    .dataframe tbody tr th {\n",
       "        vertical-align: top;\n",
       "    }\n",
       "\n",
       "    .dataframe thead th {\n",
       "        text-align: right;\n",
       "    }\n",
       "</style>\n",
       "<table border=\"1\" class=\"dataframe\">\n",
       "  <thead>\n",
       "    <tr style=\"text-align: right;\">\n",
       "      <th></th>\n",
       "      <th>feature</th>\n",
       "      <th>importance</th>\n",
       "    </tr>\n",
       "  </thead>\n",
       "  <tbody>\n",
       "    <tr>\n",
       "      <th>0</th>\n",
       "      <td>x1</td>\n",
       "      <td>0.142172</td>\n",
       "    </tr>\n",
       "    <tr>\n",
       "      <th>1</th>\n",
       "      <td>y1</td>\n",
       "      <td>0.305636</td>\n",
       "    </tr>\n",
       "    <tr>\n",
       "      <th>2</th>\n",
       "      <td>x2</td>\n",
       "      <td>0.188589</td>\n",
       "    </tr>\n",
       "    <tr>\n",
       "      <th>3</th>\n",
       "      <td>y2</td>\n",
       "      <td>0.363603</td>\n",
       "    </tr>\n",
       "  </tbody>\n",
       "</table>\n",
       "</div>"
      ],
      "text/plain": [
       "  feature  importance\n",
       "0      x1    0.142172\n",
       "1      y1    0.305636\n",
       "2      x2    0.188589\n",
       "3      y2    0.363603"
      ]
     },
     "metadata": {},
     "output_type": "display_data"
    },
    {
     "data": {
      "text/plain": [
       "'predicted range: [1.00,10.00]'"
      ]
     },
     "metadata": {},
     "output_type": "display_data"
    },
    {
     "data": {
      "text/plain": [
       "'precision = [0.50862069 0.63372495 0.90725474 0.46913124 0.42105263 0.79662318\\n 0.4678194  0.45659845 0.6966759  0.75635277]'"
      ]
     },
     "metadata": {},
     "output_type": "display_data"
    },
    {
     "data": {
      "text/plain": [
       "'recall = [0.50593668 0.91745873 0.87724193 0.5076     0.456      0.68901427\\n 0.3896     0.43133333 0.67313483 0.72223808]'"
      ]
     },
     "metadata": {},
     "output_type": "display_data"
    },
    {
     "data": {
      "text/plain": [
       "'f-score = [0.50727513 0.74964235 0.89199595 0.48760807 0.43783005 0.73892152\\n 0.42514186 0.44360644 0.68470308 0.73890187]'"
      ]
     },
     "metadata": {},
     "output_type": "display_data"
    },
    {
     "data": {
      "text/html": [
       "<div>\n",
       "<style scoped>\n",
       "    .dataframe tbody tr th:only-of-type {\n",
       "        vertical-align: middle;\n",
       "    }\n",
       "\n",
       "    .dataframe tbody tr th {\n",
       "        vertical-align: top;\n",
       "    }\n",
       "\n",
       "    .dataframe thead th {\n",
       "        text-align: right;\n",
       "    }\n",
       "</style>\n",
       "<table border=\"1\" class=\"dataframe\">\n",
       "  <thead>\n",
       "    <tr style=\"text-align: right;\">\n",
       "      <th></th>\n",
       "      <th>feature</th>\n",
       "      <th>importance</th>\n",
       "    </tr>\n",
       "  </thead>\n",
       "  <tbody>\n",
       "    <tr>\n",
       "      <th>0</th>\n",
       "      <td>x1</td>\n",
       "      <td>0.142833</td>\n",
       "    </tr>\n",
       "    <tr>\n",
       "      <th>1</th>\n",
       "      <td>y1</td>\n",
       "      <td>0.302153</td>\n",
       "    </tr>\n",
       "    <tr>\n",
       "      <th>2</th>\n",
       "      <td>x2</td>\n",
       "      <td>0.193420</td>\n",
       "    </tr>\n",
       "    <tr>\n",
       "      <th>3</th>\n",
       "      <td>y2</td>\n",
       "      <td>0.361593</td>\n",
       "    </tr>\n",
       "  </tbody>\n",
       "</table>\n",
       "</div>"
      ],
      "text/plain": [
       "  feature  importance\n",
       "0      x1    0.142833\n",
       "1      y1    0.302153\n",
       "2      x2    0.193420\n",
       "3      y2    0.361593"
      ]
     },
     "metadata": {},
     "output_type": "display_data"
    },
    {
     "data": {
      "text/plain": [
       "'predicted range: [1.00,10.00]'"
      ]
     },
     "metadata": {},
     "output_type": "display_data"
    },
    {
     "data": {
      "text/plain": [
       "'precision = [0.53394092 0.66327273 0.9155574  0.48449345 0.45270588 0.78772563\\n 0.50800915 0.46970777 0.70666667 0.79347144]'"
      ]
     },
     "metadata": {},
     "output_type": "display_data"
    },
    {
     "data": {
      "text/plain": [
       "'recall = [0.5603562  0.91245623 0.87724193 0.5624     0.481      0.72419515\\n 0.3552     0.43933333 0.726999   0.72166714]'"
      ]
     },
     "metadata": {},
     "output_type": "display_data"
    },
    {
     "data": {
      "text/plain": [
       "'f-score = [0.54682974 0.76816172 0.89599023 0.52054795 0.46642424 0.75462563\\n 0.4180791  0.45401309 0.71668865 0.75586784]'"
      ]
     },
     "metadata": {},
     "output_type": "display_data"
    },
    {
     "data": {
      "text/html": [
       "<div>\n",
       "<style scoped>\n",
       "    .dataframe tbody tr th:only-of-type {\n",
       "        vertical-align: middle;\n",
       "    }\n",
       "\n",
       "    .dataframe tbody tr th {\n",
       "        vertical-align: top;\n",
       "    }\n",
       "\n",
       "    .dataframe thead th {\n",
       "        text-align: right;\n",
       "    }\n",
       "</style>\n",
       "<table border=\"1\" class=\"dataframe\">\n",
       "  <thead>\n",
       "    <tr style=\"text-align: right;\">\n",
       "      <th></th>\n",
       "      <th>feature</th>\n",
       "      <th>importance</th>\n",
       "    </tr>\n",
       "  </thead>\n",
       "  <tbody>\n",
       "    <tr>\n",
       "      <th>0</th>\n",
       "      <td>x1</td>\n",
       "      <td>0.145271</td>\n",
       "    </tr>\n",
       "    <tr>\n",
       "      <th>1</th>\n",
       "      <td>y1</td>\n",
       "      <td>0.298287</td>\n",
       "    </tr>\n",
       "    <tr>\n",
       "      <th>2</th>\n",
       "      <td>x2</td>\n",
       "      <td>0.196895</td>\n",
       "    </tr>\n",
       "    <tr>\n",
       "      <th>3</th>\n",
       "      <td>y2</td>\n",
       "      <td>0.359547</td>\n",
       "    </tr>\n",
       "  </tbody>\n",
       "</table>\n",
       "</div>"
      ],
      "text/plain": [
       "  feature  importance\n",
       "0      x1    0.145271\n",
       "1      y1    0.298287\n",
       "2      x2    0.196895\n",
       "3      y2    0.359547"
      ]
     },
     "metadata": {},
     "output_type": "display_data"
    },
    {
     "data": {
      "text/plain": [
       "'predicted range: [1.00,10.00]'"
      ]
     },
     "metadata": {},
     "output_type": "display_data"
    },
    {
     "data": {
      "text/plain": [
       "'precision = [0.56879526 0.69029568 0.91918773 0.50992471 0.52193226 0.82446206\\n 0.51851852 0.47819972 0.70934579 0.81314232]'"
      ]
     },
     "metadata": {},
     "output_type": "display_data"
    },
    {
     "data": {
      "text/plain": [
       "'recall = [0.56992084 0.91095548 0.88401754 0.596      0.47       0.72485894\\n 0.4648     0.45333333 0.76179324 0.74536112]'"
      ]
     },
     "metadata": {},
     "output_type": "display_data"
    },
    {
     "data": {
      "text/plain": [
       "'f-score = [0.5693575  0.78542161 0.90125965 0.54961269 0.49460668 0.77145885\\n 0.49019194 0.46543463 0.73463462 0.77777778]'"
      ]
     },
     "metadata": {},
     "output_type": "display_data"
    },
    {
     "data": {
      "text/html": [
       "<div>\n",
       "<style scoped>\n",
       "    .dataframe tbody tr th:only-of-type {\n",
       "        vertical-align: middle;\n",
       "    }\n",
       "\n",
       "    .dataframe tbody tr th {\n",
       "        vertical-align: top;\n",
       "    }\n",
       "\n",
       "    .dataframe thead th {\n",
       "        text-align: right;\n",
       "    }\n",
       "</style>\n",
       "<table border=\"1\" class=\"dataframe\">\n",
       "  <thead>\n",
       "    <tr style=\"text-align: right;\">\n",
       "      <th></th>\n",
       "      <th>feature</th>\n",
       "      <th>importance</th>\n",
       "    </tr>\n",
       "  </thead>\n",
       "  <tbody>\n",
       "    <tr>\n",
       "      <th>0</th>\n",
       "      <td>x1</td>\n",
       "      <td>0.144951</td>\n",
       "    </tr>\n",
       "    <tr>\n",
       "      <th>1</th>\n",
       "      <td>y1</td>\n",
       "      <td>0.295385</td>\n",
       "    </tr>\n",
       "    <tr>\n",
       "      <th>2</th>\n",
       "      <td>x2</td>\n",
       "      <td>0.201917</td>\n",
       "    </tr>\n",
       "    <tr>\n",
       "      <th>3</th>\n",
       "      <td>y2</td>\n",
       "      <td>0.357748</td>\n",
       "    </tr>\n",
       "  </tbody>\n",
       "</table>\n",
       "</div>"
      ],
      "text/plain": [
       "  feature  importance\n",
       "0      x1    0.144951\n",
       "1      y1    0.295385\n",
       "2      x2    0.201917\n",
       "3      y2    0.357748"
      ]
     },
     "metadata": {},
     "output_type": "display_data"
    },
    {
     "data": {
      "text/plain": [
       "'predicted range: [1.00,10.00]'"
      ]
     },
     "metadata": {},
     "output_type": "display_data"
    },
    {
     "data": {
      "text/plain": [
       "'precision = [0.58487606 0.70625    0.92564745 0.52058922 0.55013263 0.81167675\\n 0.55334873 0.50408315 0.76553106 0.83276344]'"
      ]
     },
     "metadata": {},
     "output_type": "display_data"
    },
    {
     "data": {
      "text/plain": [
       "'recall = [0.61477573 0.90445223 0.88322041 0.622      0.5185     0.75672088\\n 0.4792     0.45266667 0.76681164 0.76477305]'"
      ]
     },
     "metadata": {},
     "output_type": "display_data"
    },
    {
     "data": {
      "text/plain": [
       "'f-score = [0.59945329 0.79315639 0.90393637 0.56679424 0.53384813 0.783236\\n 0.513612   0.47699333 0.76617082 0.79732143]'"
      ]
     },
     "metadata": {},
     "output_type": "display_data"
    },
    {
     "data": {
      "text/html": [
       "<div>\n",
       "<style scoped>\n",
       "    .dataframe tbody tr th:only-of-type {\n",
       "        vertical-align: middle;\n",
       "    }\n",
       "\n",
       "    .dataframe tbody tr th {\n",
       "        vertical-align: top;\n",
       "    }\n",
       "\n",
       "    .dataframe thead th {\n",
       "        text-align: right;\n",
       "    }\n",
       "</style>\n",
       "<table border=\"1\" class=\"dataframe\">\n",
       "  <thead>\n",
       "    <tr style=\"text-align: right;\">\n",
       "      <th></th>\n",
       "      <th>feature</th>\n",
       "      <th>importance</th>\n",
       "    </tr>\n",
       "  </thead>\n",
       "  <tbody>\n",
       "    <tr>\n",
       "      <th>0</th>\n",
       "      <td>x1</td>\n",
       "      <td>0.143218</td>\n",
       "    </tr>\n",
       "    <tr>\n",
       "      <th>1</th>\n",
       "      <td>y1</td>\n",
       "      <td>0.294659</td>\n",
       "    </tr>\n",
       "    <tr>\n",
       "      <th>2</th>\n",
       "      <td>x2</td>\n",
       "      <td>0.204208</td>\n",
       "    </tr>\n",
       "    <tr>\n",
       "      <th>3</th>\n",
       "      <td>y2</td>\n",
       "      <td>0.357915</td>\n",
       "    </tr>\n",
       "  </tbody>\n",
       "</table>\n",
       "</div>"
      ],
      "text/plain": [
       "  feature  importance\n",
       "0      x1    0.143218\n",
       "1      y1    0.294659\n",
       "2      x2    0.204208\n",
       "3      y2    0.357915"
      ]
     },
     "metadata": {},
     "output_type": "display_data"
    },
    {
     "data": {
      "text/plain": [
       "'predicted range: [1.00,10.00]'"
      ]
     },
     "metadata": {},
     "output_type": "display_data"
    },
    {
     "data": {
      "text/plain": [
       "'precision = [0.59604019 0.71245634 0.9292591  0.54699435 0.58082192 0.83896104\\n 0.58376839 0.528125   0.77318255 0.8557511 ]'"
      ]
     },
     "metadata": {},
     "output_type": "display_data"
    },
    {
     "data": {
      "text/plain": [
       "'recall = [0.66523747 0.91845923 0.88481467 0.6588     0.53       0.75041487\\n 0.492      0.45066667 0.80060221 0.77733371]'"
      ]
     },
     "metadata": {},
     "output_type": "display_data"
    },
    {
     "data": {
      "text/plain": [
       "'f-score = [0.62874065 0.80244755 0.90649245 0.59771366 0.55424837 0.79222144\\n 0.53397005 0.48633094 0.78665352 0.81465969]'"
      ]
     },
     "metadata": {},
     "output_type": "display_data"
    },
    {
     "data": {
      "text/html": [
       "<div>\n",
       "<style scoped>\n",
       "    .dataframe tbody tr th:only-of-type {\n",
       "        vertical-align: middle;\n",
       "    }\n",
       "\n",
       "    .dataframe tbody tr th {\n",
       "        vertical-align: top;\n",
       "    }\n",
       "\n",
       "    .dataframe thead th {\n",
       "        text-align: right;\n",
       "    }\n",
       "</style>\n",
       "<table border=\"1\" class=\"dataframe\">\n",
       "  <thead>\n",
       "    <tr style=\"text-align: right;\">\n",
       "      <th></th>\n",
       "      <th>feature</th>\n",
       "      <th>importance</th>\n",
       "    </tr>\n",
       "  </thead>\n",
       "  <tbody>\n",
       "    <tr>\n",
       "      <th>0</th>\n",
       "      <td>x1</td>\n",
       "      <td>0.143385</td>\n",
       "    </tr>\n",
       "    <tr>\n",
       "      <th>1</th>\n",
       "      <td>y1</td>\n",
       "      <td>0.292085</td>\n",
       "    </tr>\n",
       "    <tr>\n",
       "      <th>2</th>\n",
       "      <td>x2</td>\n",
       "      <td>0.207457</td>\n",
       "    </tr>\n",
       "    <tr>\n",
       "      <th>3</th>\n",
       "      <td>y2</td>\n",
       "      <td>0.357073</td>\n",
       "    </tr>\n",
       "  </tbody>\n",
       "</table>\n",
       "</div>"
      ],
      "text/plain": [
       "  feature  importance\n",
       "0      x1    0.143385\n",
       "1      y1    0.292085\n",
       "2      x2    0.207457\n",
       "3      y2    0.357073"
      ]
     },
     "metadata": {},
     "output_type": "display_data"
    },
    {
     "data": {
      "text/plain": [
       "'predicted range: [1.00,10.00]'"
      ]
     },
     "metadata": {},
     "output_type": "display_data"
    },
    {
     "data": {
      "text/plain": [
       "'precision = [0.60604365 0.71914062 0.92901879 0.57099081 0.60585959 0.85996205\\n 0.62411348 0.54199683 0.78184111 0.88139987]'"
      ]
     },
     "metadata": {},
     "output_type": "display_data"
    },
    {
     "data": {
      "text/plain": [
       "'recall = [0.71437995 0.92096048 0.88680749 0.6708     0.548      0.75207434\\n 0.528      0.456      0.82970893 0.77647731]'"
      ]
     },
     "metadata": {},
     "output_type": "display_data"
    },
    {
     "data": {
      "text/plain": [
       "'f-score = [0.65576748 0.80763325 0.90742251 0.61688431 0.57547913 0.80240793\\n 0.57204767 0.49529327 0.80506411 0.82561846]'"
      ]
     },
     "metadata": {},
     "output_type": "display_data"
    },
    {
     "data": {
      "text/html": [
       "<div>\n",
       "<style scoped>\n",
       "    .dataframe tbody tr th:only-of-type {\n",
       "        vertical-align: middle;\n",
       "    }\n",
       "\n",
       "    .dataframe tbody tr th {\n",
       "        vertical-align: top;\n",
       "    }\n",
       "\n",
       "    .dataframe thead th {\n",
       "        text-align: right;\n",
       "    }\n",
       "</style>\n",
       "<table border=\"1\" class=\"dataframe\">\n",
       "  <thead>\n",
       "    <tr style=\"text-align: right;\">\n",
       "      <th></th>\n",
       "      <th>feature</th>\n",
       "      <th>importance</th>\n",
       "    </tr>\n",
       "  </thead>\n",
       "  <tbody>\n",
       "    <tr>\n",
       "      <th>0</th>\n",
       "      <td>x1</td>\n",
       "      <td>0.144829</td>\n",
       "    </tr>\n",
       "    <tr>\n",
       "      <th>1</th>\n",
       "      <td>y1</td>\n",
       "      <td>0.291771</td>\n",
       "    </tr>\n",
       "    <tr>\n",
       "      <th>2</th>\n",
       "      <td>x2</td>\n",
       "      <td>0.209650</td>\n",
       "    </tr>\n",
       "    <tr>\n",
       "      <th>3</th>\n",
       "      <td>y2</td>\n",
       "      <td>0.353750</td>\n",
       "    </tr>\n",
       "  </tbody>\n",
       "</table>\n",
       "</div>"
      ],
      "text/plain": [
       "  feature  importance\n",
       "0      x1    0.144829\n",
       "1      y1    0.291771\n",
       "2      x2    0.209650\n",
       "3      y2    0.353750"
      ]
     },
     "metadata": {},
     "output_type": "display_data"
    }
   ],
   "source": [
    "for r in range(5, 20):\n",
    "    feature_cols = ['x1', 'y1', 'x2', 'y2']\n",
    "    X = test[feature_cols]\n",
    "    y = test[[\"class\"]]\n",
    "\n",
    "    treeclf = DecisionTreeClassifier(max_depth=r, random_state=0)\n",
    "    treeclf.fit(X, y)\n",
    "\n",
    "    graph = Source(tree.export_graphviz(treeclf, out_file=None,\n",
    "                                    feature_names=feature_cols,\n",
    "#                                     class_names=['0', '1'], filled = True))\n",
    "                                    class_names=['1', '2', '3', '4', '5', '6', '7', '8', '9', '10'], filled = True))\n",
    "    svg = SVG(graph.pipe(format='svg'))\n",
    "    testSet = test[feature_cols]\n",
    "    y_pred = treeclf.predict(testSet)\n",
    "\n",
    "    display('predicted range: [{0:.2f},{1:.2f}]'.format(min(y_pred), max(y_pred)))\n",
    "\n",
    "    p,r,f,s = precision_recall_fscore_support(y, y_pred)\n",
    "    display('precision = {}'.format(p))\n",
    "    display('recall = {}'.format(r))\n",
    "    display('f-score = {}'.format(f))\n",
    "    display(pd.DataFrame({'feature':feature_cols, 'importance':treeclf.feature_importances_}))\n",
    "    #display(svg)"
   ]
  },
  {
   "cell_type": "code",
   "execution_count": null,
   "metadata": {},
   "outputs": [],
   "source": []
  }
 ],
 "metadata": {
  "kernelspec": {
   "display_name": "Python 3",
   "language": "python",
   "name": "python3"
  },
  "language_info": {
   "codemirror_mode": {
    "name": "ipython",
    "version": 3
   },
   "file_extension": ".py",
   "mimetype": "text/x-python",
   "name": "python",
   "nbconvert_exporter": "python",
   "pygments_lexer": "ipython3",
   "version": "3.7.0"
  }
 },
 "nbformat": 4,
 "nbformat_minor": 4
}
